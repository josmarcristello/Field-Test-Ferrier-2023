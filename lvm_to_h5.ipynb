{
 "cells": [
  {
   "cell_type": "code",
   "execution_count": 1,
   "metadata": {},
   "outputs": [],
   "source": [
    "import pandas as pd\n",
    "from lvm_to_h5 import *"
   ]
  },
  {
   "cell_type": "code",
   "execution_count": 5,
   "metadata": {},
   "outputs": [],
   "source": [
    "## User Selection\n",
    "Dropbox_drive = \"F:/\"\n",
    "station_selected = \"Station 1/\"\n",
    "#NI_test_name = \"st_2_test___012\"\n",
    "\n",
    "\n",
    "## Derived data paths\n",
    "parent_data_folder = Dropbox_drive + \"Dropbox/Projects/001 - CNRL - Pipewise/005 - Field Test/2023/data\"\n",
    "NI_raw_data_folder = parent_data_folder + \"/NI/Raw Data/\"\n",
    "\n",
    "NI_converted_data_folder = parent_data_folder + \"/NI/Converted Data/\"\n",
    "\n",
    "folder_raw_path = NI_raw_data_folder + station_selected\n",
    "folder_converted_path = NI_converted_data_folder + station_selected"
   ]
  },
  {
   "cell_type": "code",
   "execution_count": 8,
   "metadata": {},
   "outputs": [
    {
     "name": "stdout",
     "output_type": "stream",
     "text": [
      "Successfully converted F:/Dropbox/Projects/001 - CNRL - Pipewise/005 - Field Test/2023/data/NI/Raw Data/Station 2/st_2_test___012.lvm to F:/Dropbox/Projects/001 - CNRL - Pipewise/005 - Field Test/2023/data/NI/Raw Data/Station 2/st_2_test___012.h5\n"
     ]
    }
   ],
   "source": [
    "input_file = \"F:/Dropbox/Projects/001 - CNRL - Pipewise/005 - Field Test/2023/data/NI/Raw Data/Station 2/st_2_test___012.lvm\"\n",
    "output_file = \"F:/Dropbox/Projects/001 - CNRL - Pipewise/005 - Field Test/2023/data/NI/Raw Data/Station 2/st_2_test___012.h5\"\n",
    "convert_single_lvm_to_h5(input_file, output_file)"
   ]
  },
  {
   "cell_type": "code",
   "execution_count": 6,
   "metadata": {},
   "outputs": [
    {
     "name": "stderr",
     "output_type": "stream",
     "text": [
      "Converting .lvm to .h5: 100%|██████████| 1/1 [00:01<00:00,  1.44s/files]\n"
     ]
    }
   ],
   "source": [
    "input_folder = folder_raw_path\n",
    "output_folder = folder_converted_path\n",
    "\n",
    "convert_lvm_to_h5(input_folder, output_folder)"
   ]
  }
 ],
 "metadata": {
  "kernelspec": {
   "display_name": ".venv",
   "language": "python",
   "name": "python3"
  },
  "language_info": {
   "codemirror_mode": {
    "name": "ipython",
    "version": 3
   },
   "file_extension": ".py",
   "mimetype": "text/x-python",
   "name": "python",
   "nbconvert_exporter": "python",
   "pygments_lexer": "ipython3",
   "version": "3.10.9"
  },
  "orig_nbformat": 4
 },
 "nbformat": 4,
 "nbformat_minor": 2
}
