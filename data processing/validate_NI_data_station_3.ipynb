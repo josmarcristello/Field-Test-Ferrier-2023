{
 "cells": [
  {
   "cell_type": "code",
   "execution_count": 3,
   "metadata": {},
   "outputs": [],
   "source": [
    "\n",
    "import os\n",
    "import pandas as pd\n",
    "import numpy as np\n",
    "import matplotlib.pyplot as plt\n",
    "from lvm_to_h5 import *\n",
    "import tempfile\n",
    "from data_utils import import_lvm_file"
   ]
  },
  {
   "attachments": {},
   "cell_type": "markdown",
   "metadata": {},
   "source": [
    "## Importing Data"
   ]
  },
  {
   "attachments": {},
   "cell_type": "markdown",
   "metadata": {},
   "source": [
    "## Define Data Folders"
   ]
  },
  {
   "cell_type": "code",
   "execution_count": 1,
   "metadata": {},
   "outputs": [],
   "source": [
    "# User Selection\n",
    "\n",
    "Dropbox_drive = \"F:/\"\n",
    "station_selected = \"Station 3/\"\n",
    "NI_test_name = \"st_1_test___002\"\n",
    "\n",
    "\n",
    "# Derived data paths\n",
    "parent_data_folder = Dropbox_drive + \"Dropbox/Projects/001 - CNRL - Pipewise/005 - Field Test/2023/data\"\n",
    "NI_raw_data_folder = parent_data_folder + \"/NI/Raw Data/\"\n",
    "\n",
    "NI_converted_data_folder = parent_data_folder + \"/NI/Converted Data/\"\n",
    "\n",
    "full_raw_path = NI_raw_data_folder + station_selected + NI_test_name + \".lvm\"\n",
    "full_converted_path = NI_converted_data_folder + station_selected + NI_test_name + \".h5\"\n",
    "\n",
    "# Full raw path (hardcoded)\n",
    "full_raw_path = \"F:/Dropbox/Projects/011 - UofC Leak/Test/May 29/Station 1 - Field Site/Test 9.lvm\"\n",
    "full_raw_path = \"F:/Dropbox/Code/Labview/Embedded_Field_Test/st_3_test___004.lvm\""
   ]
  },
  {
   "attachments": {},
   "cell_type": "markdown",
   "metadata": {},
   "source": [
    "### Directly importing from .lvm"
   ]
  },
  {
   "cell_type": "code",
   "execution_count": 4,
   "metadata": {},
   "outputs": [],
   "source": [
    "# Useful, but takes a long time to load each file.\n",
    "# 1.9GB file: 4m 20s. Optimized: \n",
    "# 380MB file: 0m 41s. Optimized: 7.8 s\n",
    "data_frame = import_lvm_file(full_raw_path)"
   ]
  },
  {
   "attachments": {},
   "cell_type": "markdown",
   "metadata": {},
   "source": [
    "## Header"
   ]
  },
  {
   "cell_type": "code",
   "execution_count": 5,
   "metadata": {},
   "outputs": [
    {
     "name": "stdout",
     "output_type": "stream",
     "text": [
      "   X_Value  D1 - Channel 0  D1 - Channel 1  D1 - Channel 2  D1 - Channel 3\n",
      "0   0.0000       10.446126        2.358122       -1.143275       -0.564787\n",
      "1   0.0001       10.446126        2.360967       -1.142320       -2.308015\n",
      "2   0.0002       10.446126        2.358438       -1.143594       -3.133922\n",
      "3   0.0003       10.446126        2.361599       -1.142320       -3.140881\n",
      "4   0.0004       10.446126        2.360019       -1.143275       -3.138666\n"
     ]
    }
   ],
   "source": [
    "print(data_frame.head())"
   ]
  },
  {
   "attachments": {},
   "cell_type": "markdown",
   "metadata": {},
   "source": [
    "## Meta Validation"
   ]
  },
  {
   "attachments": {},
   "cell_type": "markdown",
   "metadata": {},
   "source": [
    "### Data Points & Recording Time"
   ]
  },
  {
   "cell_type": "code",
   "execution_count": 41,
   "metadata": {},
   "outputs": [
    {
     "name": "stdout",
     "output_type": "stream",
     "text": [
      "Number of data points in the first column: 2680000\n",
      "Data was recorded for 261.72 seconds\n",
      "Data was recorded for 4.36 minutes\n",
      "Data was recorded for 0.07 hours\n"
     ]
    }
   ],
   "source": [
    "# Access the first column using its index and count the number of data points\n",
    "time_values = data_frame.iloc[:, 0]\n",
    "data_points_count = time_values.count()\n",
    "\n",
    "# Workaround to account for files that don't start at 0 seconds\n",
    "initial_recording_time = time_values.iloc[0]\n",
    "final_recording_time = time_values.iloc[-1]\n",
    "delta_recording_time = final_recording_time - initial_recording_time\n",
    "\n",
    "print(\"Number of data points in the first column:\", data_points_count)\n",
    "print(\"Data was recorded for\", round(delta_recording_time,2), \"seconds\")\n",
    "print(\"Data was recorded for\", round(delta_recording_time/60,2), \"minutes\")\n",
    "print(\"Data was recorded for\", round(delta_recording_time/3600,2), \"hours\")"
   ]
  },
  {
   "attachments": {},
   "cell_type": "markdown",
   "metadata": {},
   "source": [
    "### Sampling rate, Consistency and CV"
   ]
  },
  {
   "cell_type": "code",
   "execution_count": 42,
   "metadata": {},
   "outputs": [
    {
     "name": "stdout",
     "output_type": "stream",
     "text": [
      "Expected sampling rate: 10000 Hz\n",
      "Effective sampling rate: 10240.00 Hz\n",
      "Number of time intervals exceeding 5.0% deviation: 0\n",
      "Percentage of time intervals exceeding 5.0% deviation: 0.00%\n"
     ]
    }
   ],
   "source": [
    "# Calculate the time differences between consecutive data points\n",
    "time_differences = time_values.diff().dropna()\n",
    "\n",
    "# Define the expected sampling rate (in Hz) and maximum allowed deviation (in percentage)\n",
    "expected_sampling_rate = 10000  # Replace with your expected sampling rate\n",
    "max_allowed_deviation = 0.05  # 5% deviation, for example\n",
    "\n",
    "# Calculate the expected time difference between consecutive data points\n",
    "expected_time_difference = 1 / expected_sampling_rate\n",
    "\n",
    "# Calculate the deviation of each time difference from the expected time difference\n",
    "deviation = np.abs(time_differences - expected_time_difference)\n",
    "\n",
    "# Count the number of time intervals that exceed the maximum allowed deviation\n",
    "exceed_threshold_count = np.sum(deviation > max_allowed_deviation * expected_time_difference)\n",
    "\n",
    "# Calculate the percentage of time intervals that exceed the maximum allowed deviation\n",
    "exceed_threshold_percentage = exceed_threshold_count / len(time_differences) * 100\n",
    "\n",
    "# Calculate the effective sampling rate\n",
    "effective_sampling_rate = 1 / time_differences.mean()\n",
    "\n",
    "print(f\"Expected sampling rate: {expected_sampling_rate} Hz\")\n",
    "print(f\"Effective sampling rate: {effective_sampling_rate:.2f} Hz\")\n",
    "print(f\"Number of time intervals exceeding {max_allowed_deviation * 100}% deviation: {exceed_threshold_count}\")\n",
    "print(f\"Percentage of time intervals exceeding {max_allowed_deviation * 100}% deviation: {exceed_threshold_percentage:.2f}%\")\n"
   ]
  },
  {
   "cell_type": "code",
   "execution_count": 61,
   "metadata": {},
   "outputs": [
    {
     "data": {
      "image/png": "[encoded data removed]",
      "text/plain": [
       "<Figure size 864x432 with 1 Axes>"
      ]
     },
     "metadata": {
      "needs_background": "light"
     },
     "output_type": "display_data"
    }
   ],
   "source": [
    "import matplotlib.pyplot as plt\n",
    "\n",
    "# Remove the first value from time_values to match the length of time_differences\n",
    "adjusted_time_values = time_values.iloc[1:]\n",
    "\n",
    "plt.figure(figsize=(12, 6))\n",
    "plt.plot(adjusted_time_values, time_differences)\n",
    "plt.xlabel(\"Time (s)\")\n",
    "plt.ylabel(\"Time differences\")\n",
    "plt.title(\"Time Differences between Consecutive Data Points\")\n",
    "plt.show()"
   ]
  },
  {
   "attachments": {},
   "cell_type": "markdown",
   "metadata": {},
   "source": [
    "### Disk Space Required"
   ]
  },
  {
   "cell_type": "code",
   "execution_count": 43,
   "metadata": {},
   "outputs": [
    {
     "name": "stdout",
     "output_type": "stream",
     "text": [
      "Disk space per second: 1.41 MB/s\n",
      "Disk space per minute: 84.62 MB/min\n",
      "Disk space per hour: 4.96 GB/hour\n"
     ]
    }
   ],
   "source": [
    "# Calculate the duration in seconds\n",
    "start_time = data_frame.iloc[0, 0]\n",
    "end_time = data_frame.iloc[-1, 0]\n",
    "duration_seconds = end_time - start_time\n",
    "\n",
    "# Get the file size in bytes\n",
    "file_size_bytes = os.path.getsize(full_raw_path)\n",
    "\n",
    "# Convert file size to megabytes\n",
    "file_size_mb = file_size_bytes / (1024 * 1024)\n",
    "\n",
    "# Calculate disk space per second in megabytes\n",
    "disk_space_per_second_mb = file_size_mb / duration_seconds\n",
    "\n",
    "print(f\"Disk space per second: {round(disk_space_per_second_mb,2)} MB/s\")\n",
    "\n",
    "print(f\"Disk space per minute: {round(disk_space_per_second_mb*60,2)} MB/min\")\n",
    "\n",
    "print(f\"Disk space per hour: {round(disk_space_per_second_mb*60*60/1024,2)} GB/hour\")"
   ]
  },
  {
   "cell_type": "code",
   "execution_count": 29,
   "metadata": {},
   "outputs": [],
   "source": [
    "# Apply the condition to all channels except for the first one (time_values)\n",
    "# If a value is greater than 5 or less than -5, set it to zero\n",
    "#data_frame.iloc[:, 1:] = data_frame.iloc[:, 1:].applymap(lambda x: 0 if x > 5 or x < -5 else x)"
   ]
  },
  {
   "attachments": {},
   "cell_type": "markdown",
   "metadata": {},
   "source": [
    "## Signal"
   ]
  },
  {
   "attachments": {},
   "cell_type": "markdown",
   "metadata": {},
   "source": [
    "### Device 1"
   ]
  },
  {
   "cell_type": "code",
   "execution_count": 6,
   "metadata": {},
   "outputs": [],
   "source": [
    "time_values = data_frame.iloc[:, 0]\n",
    "device_data = data_frame[[\"D1 - Channel 0\", \"D1 - Channel 1\", \"D1 - Channel 2\"]]\n",
    "\n",
    "# Plot the first three columns with time_values as the x-axis\n",
    "for column in device_data.columns:\n",
    "    plt.plot(time_values, device_data[column], label=column)\n",
    "\n",
    "#plt.xlim((16550, 16550.1))\n",
    "#plt.ylim((-10, 11))\n",
    "\n",
    "# Customize the plot\n",
    "plt.xlabel('Time [s]')\n",
    "plt.ylabel('Value [V]')\n",
    "plt.title('D1 Ch 0 - 2')\n",
    "plt.legend(device_data.columns, loc='best')\n",
    "\n",
    "# Show the plot\n",
    "plt.show()\n"
   ]
  },
  {
   "attachments": {},
   "cell_type": "markdown",
   "metadata": {},
   "source": [
    "### Device 2"
   ]
  },
  {
   "attachments": {},
   "cell_type": "markdown",
   "metadata": {},
   "source": [
    "### IRIG-B"
   ]
  },
  {
   "cell_type": "code",
   "execution_count": null,
   "metadata": {},
   "outputs": [
    {
     "data": {
      "image/png": "[encoded data removed]",
      "text/plain": [
       "<Figure size 432x288 with 1 Axes>"
      ]
     },
     "metadata": {
      "needs_background": "light"
     },
     "output_type": "display_data"
    }
   ],
   "source": [
    "time_values = data_frame.iloc[:, 0]\n",
    "device_data = data_frame[[\"D1 - Channel 3\"]]\n",
    "\n",
    "# Plot the first three columns with time_values as the x-axis\n",
    "for column in device_data.columns:\n",
    "    plt.plot(time_values, device_data[column], label=column)\n",
    "\n",
    "#plt.xlim((10, 11))\n",
    "#plt.ylim((-10, 11))\n",
    "\n",
    "# Customize the plot\n",
    "plt.xlabel('Time [s]')\n",
    "plt.ylabel('Value [V]')\n",
    "plt.title('D1 Ch 3, D2 Ch 3')\n",
    "plt.legend(device_data.columns, loc='best')\n",
    "\n",
    "# Show the plot\n",
    "plt.show()\n"
   ]
  }
 ],
 "metadata": {
  "kernelspec": {
   "display_name": "Python 3",
   "language": "python",
   "name": "python3"
  },
  "language_info": {
   "codemirror_mode": {
    "name": "ipython",
    "version": 3
   },
   "file_extension": ".py",
   "mimetype": "text/x-python",
   "name": "python",
   "nbconvert_exporter": "python",
   "pygments_lexer": "ipython3",
   "version": "3.10.9"
  },
  "orig_nbformat": 4
 },
 "nbformat": 4,
 "nbformat_minor": 2
}
