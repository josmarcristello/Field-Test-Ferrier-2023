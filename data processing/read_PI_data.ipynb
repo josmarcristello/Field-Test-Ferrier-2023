{
 "cells": [
  {
   "cell_type": "code",
   "execution_count": 12,
   "metadata": {},
   "outputs": [],
   "source": [
    "import sys\n",
    "import matplotlib.pyplot as plt\n",
    "import pandas as pd\n",
    "import numpy as np\n",
    "import re\n",
    "import os"
   ]
  },
  {
   "attachments": {},
   "cell_type": "markdown",
   "metadata": {},
   "source": [
    "# Importing Data"
   ]
  },
  {
   "attachments": {},
   "cell_type": "markdown",
   "metadata": {},
   "source": [
    "## Define Data Folders"
   ]
  },
  {
   "cell_type": "code",
   "execution_count": 2,
   "metadata": {},
   "outputs": [
    {
     "name": "stdout",
     "output_type": "stream",
     "text": [
      "Y:/Downloads/tests/Hat_1_2023-05-31_12--52--55.csv\n",
      "Y:/Downloads/tests/Hat_2_2023-05-31_12--52--55.csv\n"
     ]
    }
   ],
   "source": [
    "parent_data_folder = \"Y:/Downloads/tests/\"\n",
    "raw_test_name_1 = parent_data_folder + \"Hat_1_2023-05-31_12--52--55\"\n",
    "raw_test_name_1 = raw_test_name_1 + \".csv\"\n",
    "\n",
    "raw_test_name_2 = parent_data_folder + \"Hat_2_2023-05-31_12--52--55\"\n",
    "raw_test_name_2 = raw_test_name_2 + \".csv\"\n",
    "\n",
    "\n",
    "print(raw_test_name_1)\n",
    "print(raw_test_name_2)"
   ]
  },
  {
   "attachments": {},
   "cell_type": "markdown",
   "metadata": {},
   "source": [
    "## Open and merge two DFs"
   ]
  },
  {
   "cell_type": "code",
   "execution_count": 4,
   "metadata": {},
   "outputs": [],
   "source": [
    "import pandas as pd\n",
    "\n",
    "# Define the chunk size\n",
    "chunk_size = 50000 # Modify this value based on your need\n",
    "\n",
    "# Initialize empty lists to hold the chunks from both files\n",
    "chunks_file1 = []\n",
    "chunks_file2 = []\n",
    "\n",
    "# Read the first csv file in chunks\n",
    "for chunk in pd.read_csv(raw_test_name_1, chunksize=chunk_size):\n",
    "    chunks_file1.append(chunk)\n",
    "\n",
    "# Read the second csv file in chunks\n",
    "for chunk in pd.read_csv(raw_test_name_2, chunksize=chunk_size):\n",
    "    chunks_file2.append(chunk)\n",
    "\n",
    "# Concatenate all chunks from the first file\n",
    "df1 = pd.concat(chunks_file1, axis=0)\n",
    "\n",
    "# Concatenate all chunks from the second file\n",
    "df2 = pd.concat(chunks_file2, axis=0)\n",
    "df2 = df2.drop('time', axis=1)\n",
    "df2 = df2.rename(columns={'value_1': 'value_3', 'value_2': 'value_4'})\n",
    "\n",
    "\n",
    "# Merge the two dataframes\n",
    "# Assuming that they can be merged on the index\n",
    "data_frame = pd.concat([df1, df2], axis=1)"
   ]
  },
  {
   "cell_type": "code",
   "execution_count": 5,
   "metadata": {},
   "outputs": [],
   "source": [
    "data_frame['time'] = pd.Series(range(len(data_frame))) / 10240\n",
    "data_frame = data_frame.rename(columns={'value_1': 'HAT0_CH0', 'value_2': 'HAT0_CH1', 'value_3': 'HAT1_CH0', 'value_4': 'HAT1_CH1'})"
   ]
  },
  {
   "attachments": {},
   "cell_type": "markdown",
   "metadata": {},
   "source": [
    "## Creates a csv files with the combined data"
   ]
  },
  {
   "cell_type": "code",
   "execution_count": 189,
   "metadata": {},
   "outputs": [],
   "source": [
    "#combined_test_name = re.sub(\"Hat_1\", \"Hat_Combined\", raw_test_name_1)\n",
    "#data_frame.to_csv(combined_test_name, index=False)"
   ]
  },
  {
   "cell_type": "code",
   "execution_count": 6,
   "metadata": {},
   "outputs": [
    {
     "data": {
      "text/html": [
       "<div>\n",
       "<style scoped>\n",
       "    .dataframe tbody tr th:only-of-type {\n",
       "        vertical-align: middle;\n",
       "    }\n",
       "\n",
       "    .dataframe tbody tr th {\n",
       "        vertical-align: top;\n",
       "    }\n",
       "\n",
       "    .dataframe thead th {\n",
       "        text-align: right;\n",
       "    }\n",
       "</style>\n",
       "<table border=\"1\" class=\"dataframe\">\n",
       "  <thead>\n",
       "    <tr style=\"text-align: right;\">\n",
       "      <th></th>\n",
       "      <th>time</th>\n",
       "      <th>HAT0_CH0</th>\n",
       "      <th>HAT0_CH1</th>\n",
       "      <th>HAT1_CH0</th>\n",
       "      <th>HAT1_CH1</th>\n",
       "    </tr>\n",
       "  </thead>\n",
       "  <tbody>\n",
       "    <tr>\n",
       "      <th>0</th>\n",
       "      <td>0.000000</td>\n",
       "      <td>3.362311</td>\n",
       "      <td>1.947354</td>\n",
       "      <td>0.392176</td>\n",
       "      <td>-2.138897</td>\n",
       "    </tr>\n",
       "    <tr>\n",
       "      <th>1</th>\n",
       "      <td>0.000098</td>\n",
       "      <td>2.990163</td>\n",
       "      <td>0.287763</td>\n",
       "      <td>1.557017</td>\n",
       "      <td>-3.788048</td>\n",
       "    </tr>\n",
       "    <tr>\n",
       "      <th>2</th>\n",
       "      <td>0.000195</td>\n",
       "      <td>3.382346</td>\n",
       "      <td>-1.154630</td>\n",
       "      <td>0.765266</td>\n",
       "      <td>-5.112374</td>\n",
       "    </tr>\n",
       "    <tr>\n",
       "      <th>3</th>\n",
       "      <td>0.000293</td>\n",
       "      <td>2.951891</td>\n",
       "      <td>-1.588061</td>\n",
       "      <td>-4.724610</td>\n",
       "      <td>3.208980</td>\n",
       "    </tr>\n",
       "    <tr>\n",
       "      <th>4</th>\n",
       "      <td>0.000391</td>\n",
       "      <td>5.112546</td>\n",
       "      <td>-0.878573</td>\n",
       "      <td>-2.331163</td>\n",
       "      <td>1.964358</td>\n",
       "    </tr>\n",
       "  </tbody>\n",
       "</table>\n",
       "</div>"
      ],
      "text/plain": [
       "       time  HAT0_CH0  HAT0_CH1  HAT1_CH0  HAT1_CH1\n",
       "0  0.000000  3.362311  1.947354  0.392176 -2.138897\n",
       "1  0.000098  2.990163  0.287763  1.557017 -3.788048\n",
       "2  0.000195  3.382346 -1.154630  0.765266 -5.112374\n",
       "3  0.000293  2.951891 -1.588061 -4.724610  3.208980\n",
       "4  0.000391  5.112546 -0.878573 -2.331163  1.964358"
      ]
     },
     "execution_count": 6,
     "metadata": {},
     "output_type": "execute_result"
    }
   ],
   "source": [
    "data_frame.head()"
   ]
  },
  {
   "cell_type": "code",
   "execution_count": 7,
   "metadata": {},
   "outputs": [
    {
     "name": "stdout",
     "output_type": "stream",
     "text": [
      "                time  HAT0_CH0  HAT0_CH1  HAT1_CH0  HAT1_CH1\n",
      "0           0.000000  3.362311  1.947354  0.392176 -2.138897\n",
      "1           0.000098  2.990163  0.287763  1.557017 -3.788048\n",
      "2           0.000195  3.382346 -1.154630  0.765266 -5.112374\n",
      "3           0.000293  2.951891 -1.588061 -4.724610  3.208980\n",
      "4           0.000391  5.112546 -0.878573 -2.331163  1.964358\n",
      "...              ...       ...       ...       ...       ...\n",
      "10083541  984.720801  0.008753  0.008212       NaN       NaN\n",
      "10083542  984.720898  0.002437  0.002101       NaN       NaN\n",
      "10083543  984.720996 -0.005080 -0.005015       NaN       NaN\n",
      "10083544  984.721094 -0.007207 -0.006928       NaN       NaN\n",
      "10083545  984.721191 -0.010535 -0.010059       NaN       NaN\n",
      "\n",
      "[10083546 rows x 5 columns]\n"
     ]
    }
   ],
   "source": [
    "print(data_frame)"
   ]
  },
  {
   "attachments": {},
   "cell_type": "markdown",
   "metadata": {},
   "source": [
    "## Shape into Dataframe"
   ]
  },
  {
   "attachments": {},
   "cell_type": "markdown",
   "metadata": {},
   "source": [
    "# Meta Validation"
   ]
  },
  {
   "attachments": {},
   "cell_type": "markdown",
   "metadata": {},
   "source": [
    "### Maximum, minimums and average"
   ]
  },
  {
   "cell_type": "code",
   "execution_count": 8,
   "metadata": {},
   "outputs": [
    {
     "name": "stdout",
     "output_type": "stream",
     "text": [
      "          Maximum  Minimum  Average\n",
      "time        984.7      0.0    492.4\n",
      "HAT0_CH0      5.1     -5.1      0.0\n",
      "HAT0_CH1      5.1     -5.1     -0.0\n",
      "HAT1_CH0      5.1     -5.1      0.0\n",
      "HAT1_CH1      5.1     -5.1      0.0\n"
     ]
    }
   ],
   "source": [
    "# Calculate the maximum, minimum, and average values\n",
    "max_values = data_frame.max()\n",
    "min_values = data_frame.min()\n",
    "average_values = data_frame.mean()\n",
    "\n",
    "# Create a DataFrame with the results\n",
    "stats_df = pd.DataFrame({'Maximum': max_values, 'Minimum': min_values, 'Average': average_values})\n",
    "\n",
    "# Round the values to 1 decimal place\n",
    "stats_df_rounded = stats_df.round(1)\n",
    "\n",
    "# Display the results in a tabular format\n",
    "print(stats_df_rounded)\n",
    "\n",
    "# Note: values of 0.0 indicate that - most likely - the channel was not used"
   ]
  },
  {
   "attachments": {},
   "cell_type": "markdown",
   "metadata": {},
   "source": [
    "### Data Points & Recording Time"
   ]
  },
  {
   "cell_type": "code",
   "execution_count": 9,
   "metadata": {},
   "outputs": [
    {
     "name": "stdout",
     "output_type": "stream",
     "text": [
      "Number of data points in the first column: 10083546\n",
      "Data was recorded for 984.72 seconds\n",
      "Data was recorded for 16.41 minutes\n",
      "Data was recorded for 0.27 hours\n"
     ]
    }
   ],
   "source": [
    "# Access the first column using its index and count the number of data points\n",
    "#time_values = data_frame.iloc[:, 0]\n",
    "time_values = data_frame[\"time\"]\n",
    "data_points_count = time_values.count()\n",
    "\n",
    "# Workaround to account for files that don't start at 0 seconds\n",
    "initial_recording_time = time_values.iloc[0]\n",
    "final_recording_time = time_values.iloc[-1]\n",
    "delta_recording_time = final_recording_time - initial_recording_time\n",
    "\n",
    "print(\"Number of data points in the first column:\", data_points_count)\n",
    "print(\"Data was recorded for\", round(delta_recording_time,2), \"seconds\")\n",
    "print(\"Data was recorded for\", round(delta_recording_time/60,2), \"minutes\")\n",
    "print(\"Data was recorded for\", round(delta_recording_time/3600,2), \"hours\")"
   ]
  },
  {
   "attachments": {},
   "cell_type": "markdown",
   "metadata": {},
   "source": [
    "### Sampling rate, Consistency and CV"
   ]
  },
  {
   "cell_type": "code",
   "execution_count": 10,
   "metadata": {},
   "outputs": [
    {
     "name": "stdout",
     "output_type": "stream",
     "text": [
      "Expected sampling rate: 10240 Hz\n",
      "Effective sampling rate: 10240.00 Hz\n",
      "Number of time intervals exceeding 5.0% deviation: 0\n",
      "Percentage of time intervals exceeding 5.0% deviation: 0.00%\n"
     ]
    }
   ],
   "source": [
    "# Calculate the time differences between consecutive data points\n",
    "time_differences = time_values.diff().dropna()\n",
    "\n",
    "# Define the expected sampling rate (in Hz) and maximum allowed deviation (in percentage)\n",
    "expected_sampling_rate = 10240  # Replace with your expected sampling rate\n",
    "max_allowed_deviation = 0.05  # 5% deviation, for example\n",
    "\n",
    "# Calculate the expected time difference between consecutive data points\n",
    "expected_time_difference = 1 / expected_sampling_rate\n",
    "\n",
    "# Calculate the deviation of each time difference from the expected time difference\n",
    "deviation = np.abs(time_differences - expected_time_difference)\n",
    "\n",
    "# Count the number of time intervals that exceed the maximum allowed deviation\n",
    "exceed_threshold_count = np.sum(deviation > max_allowed_deviation * expected_time_difference)\n",
    "\n",
    "# Calculate the percentage of time intervals that exceed the maximum allowed deviation\n",
    "exceed_threshold_percentage = exceed_threshold_count / len(time_differences) * 100\n",
    "\n",
    "# Calculate the effective sampling rate\n",
    "effective_sampling_rate = 1 / time_differences.mean()\n",
    "\n",
    "print(f\"Expected sampling rate: {expected_sampling_rate} Hz\")\n",
    "print(f\"Effective sampling rate: {effective_sampling_rate:.2f} Hz\")\n",
    "print(f\"Number of time intervals exceeding {max_allowed_deviation * 100}% deviation: {exceed_threshold_count}\")\n",
    "print(f\"Percentage of time intervals exceeding {max_allowed_deviation * 100}% deviation: {exceed_threshold_percentage:.2f}%\")"
   ]
  },
  {
   "cell_type": "code",
   "execution_count": 195,
   "metadata": {},
   "outputs": [
    {
     "data": {
      "image/png": "[encoded data removed]",
      "text/plain": [
       "<Figure size 864x432 with 1 Axes>"
      ]
     },
     "metadata": {
      "needs_background": "light"
     },
     "output_type": "display_data"
    }
   ],
   "source": [
    "import matplotlib.pyplot as plt\n",
    "\n",
    "# Remove the first value from time_values to match the length of time_differences\n",
    "adjusted_time_values = time_values.iloc[1:]\n",
    "\n",
    "plt.figure(figsize=(12, 6))\n",
    "plt.plot(adjusted_time_values, time_differences)\n",
    "plt.xlabel(\"Time (s)\")\n",
    "plt.ylabel(\"Time differences\")\n",
    "plt.title(\"Time Differences between Consecutive Data Points\")\n",
    "plt.show()"
   ]
  },
  {
   "cell_type": "code",
   "execution_count": 13,
   "metadata": {},
   "outputs": [
    {
     "name": "stdout",
     "output_type": "stream",
     "text": [
      "Disk space per second: 1.19 MB/s\n",
      "Disk space per minute: 71.28 MB/min\n",
      "Disk space per hour: 4.18 GB/hour\n"
     ]
    }
   ],
   "source": [
    "# Calculate the duration in seconds\n",
    "start_time = data_frame.iloc[0, 0]\n",
    "end_time = data_frame.iloc[-1, 0]\n",
    "duration_seconds = end_time - start_time\n",
    "\n",
    "# Get the file size in bytes\n",
    "file_size_bytes = os.path.getsize(raw_test_name_1)*2\n",
    "\n",
    "# Convert file size to megabytes\n",
    "file_size_mb = file_size_bytes / (1024 * 1024)\n",
    "\n",
    "# Calculate disk space per second in megabytes\n",
    "disk_space_per_second_mb = file_size_mb / duration_seconds\n",
    "\n",
    "print(f\"Disk space per second: {round(disk_space_per_second_mb,2)} MB/s\")\n",
    "\n",
    "print(f\"Disk space per minute: {round(disk_space_per_second_mb*60,2)} MB/min\")\n",
    "\n",
    "print(f\"Disk space per hour: {round(disk_space_per_second_mb*60*60/1024,2)} GB/hour\")"
   ]
  },
  {
   "attachments": {},
   "cell_type": "markdown",
   "metadata": {},
   "source": [
    "# Signal"
   ]
  },
  {
   "attachments": {},
   "cell_type": "markdown",
   "metadata": {},
   "source": [
    "Plots a single channel against time. Note: To plot a full test length takes a significant amount of time"
   ]
  },
  {
   "cell_type": "code",
   "execution_count": 14,
   "metadata": {},
   "outputs": [
    {
     "data": {
      "image/png": "[encoded data removed]",
      "text/plain": [
       "<Figure size 432x288 with 1 Axes>"
      ]
     },
     "metadata": {
      "needs_background": "light"
     },
     "output_type": "display_data"
    }
   ],
   "source": [
    "device_data = data_frame[[\"HAT0_CH0\"]]\n",
    "\n",
    "# Plot the first three columns with time_values as the x-axis\n",
    "for column in device_data.columns:\n",
    "    plt.plot(data_frame['time'], device_data[column], label=column)\n",
    "\n",
    "#plt.xlim((1, 14))\n",
    "#plt.ylim((-10, 11))\n",
    "\n",
    "# Customize the plot\n",
    "plt.xlabel('Time [s]')\n",
    "plt.ylabel('Value [V]')\n",
    "#plt.title('D1 Ch 0 - 2')\n",
    "plt.legend(device_data.columns, loc='best')\n",
    "\n",
    "# Show the plot\n",
    "plt.show()\n"
   ]
  },
  {
   "cell_type": "code",
   "execution_count": 16,
   "metadata": {},
   "outputs": [
    {
     "data": {
      "image/png": "[encoded data removed]",
      "text/plain": [
       "<Figure size 432x288 with 1 Axes>"
      ]
     },
     "metadata": {
      "needs_background": "light"
     },
     "output_type": "display_data"
    }
   ],
   "source": [
    "time_values = data_frame.iloc[:, 0]\n",
    "device_data = data_frame[[\"HAT0_CH0\", \"HAT0_CH1\", \"HAT1_CH0\"]]\n",
    "\n",
    "# Plot the first three columns with time_values as the x-axis\n",
    "plt.plot(time_values, device_data)\n",
    "\n",
    "#plt.xlim((45, 50))\n",
    "#plt.ylim((-2, 2))\n",
    "\n",
    "# Customize the plot\n",
    "plt.xlabel('Time [s]')\n",
    "plt.ylabel('Value [V]')\n",
    "plt.title('D4 Ch 0 - 2')\n",
    "plt.legend(device_data.columns, loc='best')\n",
    "\n",
    "# Show the plot\n",
    "plt.show()\n",
    "\n"
   ]
  },
  {
   "cell_type": "code",
   "execution_count": 17,
   "metadata": {},
   "outputs": [
    {
     "data": {
      "image/png": "[encoded data removed]",
      "text/plain": [
       "<Figure size 432x288 with 1 Axes>"
      ]
     },
     "metadata": {
      "needs_background": "light"
     },
     "output_type": "display_data"
    }
   ],
   "source": [
    "time_values = data_frame.iloc[:, 0]\n",
    "device_data = data_frame[[\"HAT1_CH1\"]]\n",
    "\n",
    "# Plot the first three columns with time_values as the x-axis\n",
    "plt.plot(time_values, device_data)\n",
    "\n",
    "#plt.xlim((45, 50))\n",
    "#plt.ylim((-2, 2))\n",
    "\n",
    "# Customize the plot\n",
    "plt.xlabel('Time [s]')\n",
    "plt.ylabel('Value [V]')\n",
    "plt.title('D4 Ch 0 - 2')\n",
    "plt.legend(device_data.columns, loc='best')\n",
    "\n",
    "# Show the plot\n",
    "plt.show()\n",
    "\n"
   ]
  },
  {
   "cell_type": "code",
   "execution_count": 220,
   "metadata": {},
   "outputs": [
    {
     "data": {
      "image/png": "[encoded data removed]",
      "text/plain": [
       "<Figure size 432x288 with 1 Axes>"
      ]
     },
     "metadata": {
      "needs_background": "light"
     },
     "output_type": "display_data"
    },
    {
     "ename": "",
     "evalue": "",
     "output_type": "error",
     "traceback": [
      "\u001b[1;31mThe Kernel crashed while executing code in the the current cell or a previous cell. Please review the code in the cell(s) to identify a possible cause of the failure. Click <a href='https://aka.ms/vscodeJupyterKernelCrash'>here</a> for more info. View Jupyter <a href='command:jupyter.viewOutput'>log</a> for further details."
     ]
    }
   ],
   "source": [
    "def plot_data(data_frame, start=None, end=None):\n",
    "    # Slice the data if start and end are provided\n",
    "    if start is not None and end is not None:\n",
    "        data_frame = data_frame[(data_frame['time'] >= start) & (data_frame['time'] <= end)]\n",
    "    \n",
    "    device_data = data_frame[[\"HAT0_CH0\", \"HAT0_CH1\", \"HAT1_CH0\", \"HAT1_CH1\"]]\n",
    "\n",
    "    # Plot the first three columns with time_values as the x-axis\n",
    "    for column in device_data.columns:\n",
    "        plt.plot(data_frame['time'], device_data[column], label=column)\n",
    "\n",
    "    #plt.xlim((90, 115))\n",
    "    plt.ylim((-1.0, 1.0))\n",
    "\n",
    "    # Customize the plot\n",
    "    plt.xlabel('Time [s]')\n",
    "    plt.ylabel('Value [V]')\n",
    "    #plt.title('D1 Ch 0 - 2')\n",
    "    plt.legend(device_data.columns, loc='best')\n",
    "\n",
    "    # Show the plot\n",
    "    plt.show()\n",
    "\n",
    "# You can call this function with start and end times like this:\n",
    "plot_data(data_frame, start=2558, end=2560)\n"
   ]
  }
 ],
 "metadata": {
  "kernelspec": {
   "display_name": "Python 3",
   "language": "python",
   "name": "python3"
  },
  "language_info": {
   "codemirror_mode": {
    "name": "ipython",
    "version": 3
   },
   "file_extension": ".py",
   "mimetype": "text/x-python",
   "name": "python",
   "nbconvert_exporter": "python",
   "pygments_lexer": "ipython3",
   "version": "3.10.9"
  },
  "orig_nbformat": 4
 },
 "nbformat": 4,
 "nbformat_minor": 2
}
