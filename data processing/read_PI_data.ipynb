{
 "cells": [
  {
   "cell_type": "code",
   "execution_count": 78,
   "metadata": {},
   "outputs": [],
   "source": [
    "import matplotlib.pyplot as plt\n",
    "import pandas as pd\n",
    "import numpy as np\n",
    "import os\n",
    "from data_utils import plot_data"
   ]
  },
  {
   "attachments": {},
   "cell_type": "markdown",
   "metadata": {},
   "source": [
    "# Importing Data"
   ]
  },
  {
   "attachments": {},
   "cell_type": "markdown",
   "metadata": {},
   "source": [
    "## Define Data Folders"
   ]
  },
  {
   "cell_type": "code",
   "execution_count": 71,
   "metadata": {},
   "outputs": [
    {
     "name": "stdout",
     "output_type": "stream",
     "text": [
      "Y:/Downloads/tests/Hat_1_2023-06-07_17--03--19.csv\n",
      "Y:/Downloads/tests/Hat_2_2023-06-07_17--03--19.csv\n"
     ]
    }
   ],
   "source": [
    "parent_data_folder = \"Y:/Downloads/tests/\"\n",
    "raw_test_name_1 = parent_data_folder + \"Hat_1_2023-06-07_17--03--19\"\n",
    "raw_test_name_1 = raw_test_name_1 + \".csv\"\n",
    "\n",
    "raw_test_name_2 = parent_data_folder + \"Hat_2_2023-06-07_17--03--19\"\n",
    "raw_test_name_2 = raw_test_name_2 + \".csv\"\n",
    "\n",
    "\n",
    "print(raw_test_name_1)\n",
    "print(raw_test_name_2)"
   ]
  },
  {
   "attachments": {},
   "cell_type": "markdown",
   "metadata": {},
   "source": [
    "## Open and merge two DFs"
   ]
  },
  {
   "cell_type": "code",
   "execution_count": 72,
   "metadata": {},
   "outputs": [],
   "source": [
    "import pandas as pd\n",
    "\n",
    "# Define the chunk size\n",
    "chunk_size = 50000 # Modify this value based on your need\n",
    "\n",
    "# Initialize empty lists to hold the chunks from both files\n",
    "chunks_file1 = []\n",
    "chunks_file2 = []\n",
    "\n",
    "# Read the first csv file in chunks\n",
    "try:\n",
    "    for chunk in pd.read_csv(raw_test_name_1, chunksize=chunk_size):\n",
    "        chunks_file1.append(chunk)\n",
    "except ParserError as e:\n",
    "    # Handle the specific error\n",
    "    print(f\"ParserError: {e}\")\n",
    "    # Additional error handling logic\n",
    "\n",
    "# Read the second csv file in chunks\n",
    "try:\n",
    "    for chunk in pd.read_csv(raw_test_name_2, chunksize=chunk_size):\n",
    "        chunks_file2.append(chunk)\n",
    "except ParserError as e:\n",
    "    # Handle the specific error\n",
    "    print(f\"ParserError: {e}\")\n",
    "    # Additional error handling logic\n",
    "\n",
    "# Concatenate all chunks from the first file\n",
    "df1 = pd.concat(chunks_file1, axis=0)\n",
    "\n",
    "# Concatenate all chunks from the second file\n",
    "df2 = pd.concat(chunks_file2, axis=0)\n",
    "df2 = df2.drop('time', axis=1)\n",
    "df2 = df2.rename(columns={'value_1': 'value_3', 'value_2': 'value_4'})\n",
    "\n",
    "\n",
    "# Merge the two dataframes\n",
    "# Assuming that they can be merged on the index\n",
    "data_frame = pd.concat([df1, df2], axis=1)"
   ]
  },
  {
   "cell_type": "code",
   "execution_count": 73,
   "metadata": {},
   "outputs": [],
   "source": [
    "data_frame['time'] = pd.Series(range(len(data_frame))) / 10240\n",
    "data_frame = data_frame.rename(columns={'value_1': 'HAT0_CH0', 'value_2': 'HAT0_CH1', 'value_3': 'HAT1_CH0', 'value_4': 'HAT1_CH1'})"
   ]
  },
  {
   "attachments": {},
   "cell_type": "markdown",
   "metadata": {},
   "source": [
    "## Creates a csv files with the combined data"
   ]
  },
  {
   "cell_type": "code",
   "execution_count": 189,
   "metadata": {},
   "outputs": [],
   "source": [
    "#combined_test_name = re.sub(\"Hat_1\", \"Hat_Combined\", raw_test_name_1)\n",
    "#data_frame.to_csv(combined_test_name, index=False)"
   ]
  },
  {
   "cell_type": "code",
   "execution_count": 74,
   "metadata": {},
   "outputs": [
    {
     "data": {
      "text/html": [
       "<div>\n",
       "<style scoped>\n",
       "    .dataframe tbody tr th:only-of-type {\n",
       "        vertical-align: middle;\n",
       "    }\n",
       "\n",
       "    .dataframe tbody tr th {\n",
       "        vertical-align: top;\n",
       "    }\n",
       "\n",
       "    .dataframe thead th {\n",
       "        text-align: right;\n",
       "    }\n",
       "</style>\n",
       "<table border=\"1\" class=\"dataframe\">\n",
       "  <thead>\n",
       "    <tr style=\"text-align: right;\">\n",
       "      <th></th>\n",
       "      <th>time</th>\n",
       "      <th>HAT0_CH0</th>\n",
       "      <th>HAT0_CH1</th>\n",
       "      <th>HAT1_CH0</th>\n",
       "      <th>HAT1_CH1</th>\n",
       "    </tr>\n",
       "  </thead>\n",
       "  <tbody>\n",
       "    <tr>\n",
       "      <th>0</th>\n",
       "      <td>0.000000</td>\n",
       "      <td>-5.105859</td>\n",
       "      <td>5.111617</td>\n",
       "      <td>-4.015002</td>\n",
       "      <td>4.004396</td>\n",
       "    </tr>\n",
       "    <tr>\n",
       "      <th>1</th>\n",
       "      <td>0.000098</td>\n",
       "      <td>5.112546</td>\n",
       "      <td>5.111617</td>\n",
       "      <td>0.800079</td>\n",
       "      <td>-2.678189</td>\n",
       "    </tr>\n",
       "    <tr>\n",
       "      <th>2</th>\n",
       "      <td>0.000195</td>\n",
       "      <td>-5.105859</td>\n",
       "      <td>5.111617</td>\n",
       "      <td>1.101481</td>\n",
       "      <td>5.107575</td>\n",
       "    </tr>\n",
       "    <tr>\n",
       "      <th>3</th>\n",
       "      <td>0.000293</td>\n",
       "      <td>5.112546</td>\n",
       "      <td>5.111617</td>\n",
       "      <td>-5.109585</td>\n",
       "      <td>0.955626</td>\n",
       "    </tr>\n",
       "    <tr>\n",
       "      <th>4</th>\n",
       "      <td>0.000391</td>\n",
       "      <td>0.487094</td>\n",
       "      <td>5.111617</td>\n",
       "      <td>-5.020501</td>\n",
       "      <td>-0.775122</td>\n",
       "    </tr>\n",
       "  </tbody>\n",
       "</table>\n",
       "</div>"
      ],
      "text/plain": [
       "       time  HAT0_CH0  HAT0_CH1  HAT1_CH0  HAT1_CH1\n",
       "0  0.000000 -5.105859  5.111617 -4.015002  4.004396\n",
       "1  0.000098  5.112546  5.111617  0.800079 -2.678189\n",
       "2  0.000195 -5.105859  5.111617  1.101481  5.107575\n",
       "3  0.000293  5.112546  5.111617 -5.109585  0.955626\n",
       "4  0.000391  0.487094  5.111617 -5.020501 -0.775122"
      ]
     },
     "execution_count": 74,
     "metadata": {},
     "output_type": "execute_result"
    }
   ],
   "source": [
    "data_frame.head()"
   ]
  },
  {
   "cell_type": "code",
   "execution_count": 67,
   "metadata": {},
   "outputs": [
    {
     "name": "stdout",
     "output_type": "stream",
     "text": [
      "               time  HAT0_CH0  HAT0_CH1  HAT1_CH0  HAT1_CH1\n",
      "0          0.000000  0.628083  0.612112  0.434218  0.481906\n",
      "1          0.000098  0.591256  0.575329  0.397053  0.444457\n",
      "2          0.000195  0.575253  0.559440  0.383067  0.430189\n",
      "3          0.000293  0.546541  0.530768  0.354834  0.401633\n",
      "4          0.000391  0.526640  0.510944  0.336630  0.383123\n",
      "...             ...       ...       ...       ...       ...\n",
      "8715328  851.106250  0.045689  0.042548       NaN       NaN\n",
      "8715329  851.106348  0.027701  0.025759       NaN       NaN\n",
      "8715330  851.106445  0.014586  0.012901       NaN       NaN\n",
      "8715331  851.106543  0.001254  0.000703       NaN       NaN\n",
      "8715332  851.106641 -0.009010 -0.008834       NaN       NaN\n",
      "\n",
      "[8715333 rows x 5 columns]\n"
     ]
    }
   ],
   "source": [
    "print(data_frame)"
   ]
  },
  {
   "attachments": {},
   "cell_type": "markdown",
   "metadata": {},
   "source": [
    "## Shape into Dataframe"
   ]
  },
  {
   "attachments": {},
   "cell_type": "markdown",
   "metadata": {},
   "source": [
    "# Meta Validation"
   ]
  },
  {
   "attachments": {},
   "cell_type": "markdown",
   "metadata": {},
   "source": [
    "### Maximum, minimums and average"
   ]
  },
  {
   "cell_type": "code",
   "execution_count": 75,
   "metadata": {},
   "outputs": [
    {
     "name": "stdout",
     "output_type": "stream",
     "text": [
      "          Maximum  Minimum  Average\n",
      "time        212.0      0.0    106.0\n",
      "HAT0_CH0      5.1     -5.1      0.0\n",
      "HAT0_CH1      5.1     -5.1      0.0\n",
      "HAT1_CH0      5.1     -5.1      0.0\n",
      "HAT1_CH1      5.1     -5.1      0.0\n"
     ]
    }
   ],
   "source": [
    "# Calculate the maximum, minimum, and average values\n",
    "max_values = data_frame.max()\n",
    "min_values = data_frame.min()\n",
    "average_values = data_frame.mean()\n",
    "\n",
    "# Create a DataFrame with the results\n",
    "stats_df = pd.DataFrame({'Maximum': max_values, 'Minimum': min_values, 'Average': average_values})\n",
    "\n",
    "# Round the values to 1 decimal place\n",
    "stats_df_rounded = stats_df.round(1)\n",
    "\n",
    "# Display the results in a tabular format\n",
    "print(stats_df_rounded)\n",
    "\n",
    "# Note: values of 0.0 indicate that - most likely - the channel was not used"
   ]
  },
  {
   "attachments": {},
   "cell_type": "markdown",
   "metadata": {},
   "source": [
    "### Data Points & Recording Time"
   ]
  },
  {
   "cell_type": "code",
   "execution_count": 76,
   "metadata": {},
   "outputs": [
    {
     "name": "stdout",
     "output_type": "stream",
     "text": [
      "Number of data points in the first column: 2170453\n",
      "Data was recorded for 211.96 seconds\n",
      "Data was recorded for 3.53 minutes\n",
      "Data was recorded for 0.06 hours\n"
     ]
    }
   ],
   "source": [
    "# Access the first column using its index and count the number of data points\n",
    "#time_values = data_frame.iloc[:, 0]\n",
    "time_values = data_frame[\"time\"]\n",
    "data_points_count = time_values.count()\n",
    "\n",
    "# Workaround to account for files that don't start at 0 seconds\n",
    "initial_recording_time = time_values.iloc[0]\n",
    "final_recording_time = time_values.iloc[-1]\n",
    "delta_recording_time = final_recording_time - initial_recording_time\n",
    "\n",
    "print(\"Number of data points in the first column:\", data_points_count)\n",
    "print(\"Data was recorded for\", round(delta_recording_time,2), \"seconds\")\n",
    "print(\"Data was recorded for\", round(delta_recording_time/60,2), \"minutes\")\n",
    "print(\"Data was recorded for\", round(delta_recording_time/3600,2), \"hours\")"
   ]
  },
  {
   "attachments": {},
   "cell_type": "markdown",
   "metadata": {},
   "source": [
    "### Sampling rate, Consistency and CV"
   ]
  },
  {
   "cell_type": "code",
   "execution_count": 24,
   "metadata": {},
   "outputs": [
    {
     "name": "stdout",
     "output_type": "stream",
     "text": [
      "Expected sampling rate: 10240 Hz\n",
      "Effective sampling rate: 10240.00 Hz\n",
      "Number of time intervals exceeding 5.0% deviation: 0\n",
      "Percentage of time intervals exceeding 5.0% deviation: 0.00%\n"
     ]
    }
   ],
   "source": [
    "# Calculate the time differences between consecutive data points\n",
    "time_differences = time_values.diff().dropna()\n",
    "\n",
    "# Define the expected sampling rate (in Hz) and maximum allowed deviation (in percentage)\n",
    "expected_sampling_rate = 10240  # Replace with your expected sampling rate\n",
    "max_allowed_deviation = 0.05  # 5% deviation, for example\n",
    "\n",
    "# Calculate the expected time difference between consecutive data points\n",
    "expected_time_difference = 1 / expected_sampling_rate\n",
    "\n",
    "# Calculate the deviation of each time difference from the expected time difference\n",
    "deviation = np.abs(time_differences - expected_time_difference)\n",
    "\n",
    "# Count the number of time intervals that exceed the maximum allowed deviation\n",
    "exceed_threshold_count = np.sum(deviation > max_allowed_deviation * expected_time_difference)\n",
    "\n",
    "# Calculate the percentage of time intervals that exceed the maximum allowed deviation\n",
    "exceed_threshold_percentage = exceed_threshold_count / len(time_differences) * 100\n",
    "\n",
    "# Calculate the effective sampling rate\n",
    "effective_sampling_rate = 1 / time_differences.mean()\n",
    "\n",
    "print(f\"Expected sampling rate: {expected_sampling_rate} Hz\")\n",
    "print(f\"Effective sampling rate: {effective_sampling_rate:.2f} Hz\")\n",
    "print(f\"Number of time intervals exceeding {max_allowed_deviation * 100}% deviation: {exceed_threshold_count}\")\n",
    "print(f\"Percentage of time intervals exceeding {max_allowed_deviation * 100}% deviation: {exceed_threshold_percentage:.2f}%\")"
   ]
  },
  {
   "cell_type": "code",
   "execution_count": 195,
   "metadata": {},
   "outputs": [
    {
     "data": {
      "image/png": "[encoded data removed]",
      "text/plain": [
       "<Figure size 864x432 with 1 Axes>"
      ]
     },
     "metadata": {
      "needs_background": "light"
     },
     "output_type": "display_data"
    }
   ],
   "source": [
    "import matplotlib.pyplot as plt\n",
    "\n",
    "# Remove the first value from time_values to match the length of time_differences\n",
    "adjusted_time_values = time_values.iloc[1:]\n",
    "\n",
    "plt.figure(figsize=(12, 6))\n",
    "plt.plot(adjusted_time_values, time_differences)\n",
    "plt.xlabel(\"Time (s)\")\n",
    "plt.ylabel(\"Time differences\")\n",
    "plt.title(\"Time Differences between Consecutive Data Points\")\n",
    "plt.show()"
   ]
  },
  {
   "cell_type": "code",
   "execution_count": 25,
   "metadata": {},
   "outputs": [
    {
     "name": "stdout",
     "output_type": "stream",
     "text": [
      "Disk space per second: 2.0 MB/s\n",
      "Disk space per minute: 120.07 MB/min\n",
      "Disk space per hour: 7.04 GB/hour\n"
     ]
    }
   ],
   "source": [
    "# Calculate the duration in seconds\n",
    "start_time = data_frame.iloc[0, 0]\n",
    "end_time = data_frame.iloc[-1, 0]\n",
    "duration_seconds = end_time - start_time\n",
    "\n",
    "# Get the file size in bytes\n",
    "file_size_bytes = os.path.getsize(raw_test_name_1)*2\n",
    "\n",
    "# Convert file size to megabytes\n",
    "file_size_mb = file_size_bytes / (1024 * 1024)\n",
    "\n",
    "# Calculate disk space per second in megabytes\n",
    "disk_space_per_second_mb = file_size_mb / duration_seconds\n",
    "\n",
    "print(f\"Disk space per second: {round(disk_space_per_second_mb,2)} MB/s\")\n",
    "\n",
    "print(f\"Disk space per minute: {round(disk_space_per_second_mb*60,2)} MB/min\")\n",
    "\n",
    "print(f\"Disk space per hour: {round(disk_space_per_second_mb*60*60/1024,2)} GB/hour\")"
   ]
  },
  {
   "attachments": {},
   "cell_type": "markdown",
   "metadata": {},
   "source": [
    "# Signal"
   ]
  },
  {
   "attachments": {},
   "cell_type": "markdown",
   "metadata": {},
   "source": [
    "## Accelerometer (3 channels)"
   ]
  },
  {
   "cell_type": "code",
   "execution_count": 80,
   "metadata": {},
   "outputs": [
    {
     "data": {
      "image/png": "[encoded data removed]",
      "text/plain": [
       "<Figure size 640x480 with 1 Axes>"
      ]
     },
     "metadata": {},
     "output_type": "display_data"
    }
   ],
   "source": [
    "plot_data(data_frame, [\"HAT0_CH0\",\"HAT0_CH1\",\"HAT1_CH0\"], start_time=0.5, end_time=None, transparency=0.7, title = \"RPi - Accelerometer 1\")"
   ]
  },
  {
   "attachments": {},
   "cell_type": "markdown",
   "metadata": {},
   "source": [
    "## IRIG-B (1 channel)"
   ]
  },
  {
   "cell_type": "code",
   "execution_count": 81,
   "metadata": {},
   "outputs": [
    {
     "data": {
      "image/png": "[encoded data removed]",
      "text/plain": [
       "<Figure size 640x480 with 1 Axes>"
      ]
     },
     "metadata": {},
     "output_type": "display_data"
    }
   ],
   "source": [
    "plot_data(data_frame, [\"HAT0_CH1\"], start_time=0.5, end_time=None, transparency=0.7, title = \"RPi - Accelerometer 1\")"
   ]
  }
 ],
 "metadata": {
  "kernelspec": {
   "display_name": "Python 3",
   "language": "python",
   "name": "python3"
  },
  "language_info": {
   "codemirror_mode": {
    "name": "ipython",
    "version": 3
   },
   "file_extension": ".py",
   "mimetype": "text/x-python",
   "name": "python",
   "nbconvert_exporter": "python",
   "pygments_lexer": "ipython3",
   "version": "3.10.9"
  },
  "orig_nbformat": 4
 },
 "nbformat": 4,
 "nbformat_minor": 2
}
