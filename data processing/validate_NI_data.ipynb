{
 "cells": [
  {
   "cell_type": "code",
   "execution_count": 1,
   "metadata": {},
   "outputs": [],
   "source": [
    "import os\n",
    "import pandas as pd\n",
    "import numpy as np\n",
    "import matplotlib.pyplot as plt\n",
    "from lvm_to_h5 import *"
   ]
  },
  {
   "cell_type": "code",
   "execution_count": 2,
   "metadata": {},
   "outputs": [],
   "source": [
    "def import_lvm_file(file_path):\n",
    "    # Find the header row number\n",
    "    header_row = -1\n",
    "    with open(file_path, 'r') as f:\n",
    "        for i, line in enumerate(f):\n",
    "            if line.startswith('X_Value'):\n",
    "                header_row = i\n",
    "                break\n",
    "\n",
    "    if header_row == -1:\n",
    "        raise ValueError(\"Header row not found\")\n",
    "\n",
    "    # Read the LVM file using pandas read_csv function\n",
    "    data = pd.read_csv(\n",
    "        file_path,\n",
    "        sep='\\t',          # LVM files use tab as a delimiter\n",
    "        comment='%',       # LVM files use % as a comment character\n",
    "        skiprows=header_row,\n",
    "        header=0,          # Use the header row found\n",
    "        na_values=[''],    # Missing values are represented by empty strings\n",
    "        engine='python',   # Use the Python parser (required for 'comment' parameter)\n",
    "    )\n",
    "    \n",
    "    # Drop the last column (it's just NaNs because of the trailing tab)\n",
    "    data = data.drop(data.columns[-1], axis=1)\n",
    "    \n",
    "    return data"
   ]
  },
  {
   "attachments": {},
   "cell_type": "markdown",
   "metadata": {},
   "source": [
    "## Importing Data"
   ]
  },
  {
   "attachments": {},
   "cell_type": "markdown",
   "metadata": {},
   "source": [
    "## Define Data Folders"
   ]
  },
  {
   "cell_type": "code",
   "execution_count": 8,
   "metadata": {},
   "outputs": [],
   "source": [
    "# User Selection\n",
    "\n",
    "Dropbox_drive = \"F:/\"\n",
    "station_selected = \"Station 3/\"\n",
    "NI_test_name = \"st_1_test___002\"\n",
    "\n",
    "\n",
    "# Derived data paths\n",
    "parent_data_folder = Dropbox_drive + \"Dropbox/Projects/001 - CNRL - Pipewise/005 - Field Test/2023/data\"\n",
    "NI_raw_data_folder = parent_data_folder + \"/NI/Raw Data/\"\n",
    "\n",
    "NI_converted_data_folder = parent_data_folder + \"/NI/Converted Data/\"\n",
    "\n",
    "full_raw_path = NI_raw_data_folder + station_selected + NI_test_name + \".lvm\"\n",
    "full_converted_path = NI_converted_data_folder + station_selected + NI_test_name + \".h5\""
   ]
  },
  {
   "attachments": {},
   "cell_type": "markdown",
   "metadata": {},
   "source": [
    "### Deprecated - Directly importing from .lvm"
   ]
  },
  {
   "cell_type": "code",
   "execution_count": 10,
   "metadata": {},
   "outputs": [],
   "source": [
    "# Useful, but takes a long time to load each file.\n",
    "# Around 4m 20s for 1.9GB file\n",
    "data_frame = import_lvm_file(full_raw_path)\n"
   ]
  },
  {
   "attachments": {},
   "cell_type": "markdown",
   "metadata": {},
   "source": [
    "### Preferred: Importing hdf5 file"
   ]
  },
  {
   "cell_type": "code",
   "execution_count": 9,
   "metadata": {},
   "outputs": [
    {
     "ename": "FileNotFoundError",
     "evalue": "``F:\\Dropbox\\Projects\\001 - CNRL - Pipewise\\005 - Field Test\\2023\\data\\NI\\Converted Data\\Station 3`` does not exist",
     "output_type": "error",
     "traceback": [
      "\u001b[1;31m---------------------------------------------------------------------------\u001b[0m",
      "\u001b[1;31mFileNotFoundError\u001b[0m                         Traceback (most recent call last)",
      "\u001b[1;32mf:\\code\\python\\projects\\Field-Test-Ferrier-2023\\data processing\\validate_NI_data.ipynb Cell 9\u001b[0m in \u001b[0;36m<module>\u001b[1;34m\u001b[0m\n\u001b[0;32m      <a href='vscode-notebook-cell:/f%3A/code/python/projects/Field-Test-Ferrier-2023/data%20processing/validate_NI_data.ipynb#X11sZmlsZQ%3D%3D?line=0'>1</a>\u001b[0m \u001b[39m#convert_lvm_to_hdf5(full_raw_path, full_converted_path)\u001b[39;00m\n\u001b[0;32m      <a href='vscode-notebook-cell:/f%3A/code/python/projects/Field-Test-Ferrier-2023/data%20processing/validate_NI_data.ipynb#X11sZmlsZQ%3D%3D?line=1'>2</a>\u001b[0m \u001b[39m#full_converted_path = \"F:/Dropbox/Projects/001 - CNRL - Pipewise/005 - Field Test/2023/data/NI/Converted Data/Station 2/st_2_test___007.h5\"\u001b[39;00m\n\u001b[0;32m      <a href='vscode-notebook-cell:/f%3A/code/python/projects/Field-Test-Ferrier-2023/data%20processing/validate_NI_data.ipynb#X11sZmlsZQ%3D%3D?line=2'>3</a>\u001b[0m \u001b[39m# Importing\u001b[39;00m\n\u001b[1;32m----> <a href='vscode-notebook-cell:/f%3A/code/python/projects/Field-Test-Ferrier-2023/data%20processing/validate_NI_data.ipynb#X11sZmlsZQ%3D%3D?line=3'>4</a>\u001b[0m data_frame \u001b[39m=\u001b[39m read_h5_to_dataframe(full_converted_path)\n",
      "File \u001b[1;32mf:\\code\\python\\projects\\Field-Test-Ferrier-2023\\data processing\\lvm_to_h5.py:139\u001b[0m, in \u001b[0;36mread_h5_to_dataframe\u001b[1;34m(h5_file)\u001b[0m\n\u001b[0;32m    118\u001b[0m \u001b[39mdef\u001b[39;00m \u001b[39mread_h5_to_dataframe\u001b[39m(h5_file):\n\u001b[0;32m    119\u001b[0m     \u001b[39m\"\"\"\u001b[39;00m\n\u001b[0;32m    120\u001b[0m \u001b[39m    Read a .h5 file and load its contents into a pandas DataFrame. This function\u001b[39;00m\n\u001b[0;32m    121\u001b[0m \u001b[39m    is designed to work with .h5 files generated by the LVM to H5 Converter.\u001b[39;00m\n\u001b[1;32m   (...)\u001b[0m\n\u001b[0;32m    137\u001b[0m \u001b[39m    print(df.head())\u001b[39;00m\n\u001b[0;32m    138\u001b[0m \u001b[39m    \"\"\"\u001b[39;00m\n\u001b[1;32m--> 139\u001b[0m     \u001b[39mwith\u001b[39;00m pd\u001b[39m.\u001b[39;49mHDFStore(h5_file) \u001b[39mas\u001b[39;00m store:\n\u001b[0;32m    140\u001b[0m         df \u001b[39m=\u001b[39m store\u001b[39m.\u001b[39mselect(\u001b[39m\"\u001b[39m\u001b[39mdata\u001b[39m\u001b[39m\"\u001b[39m)\n\u001b[0;32m    141\u001b[0m     \u001b[39mreturn\u001b[39;00m df\n",
      "File \u001b[1;32mc:\\Users\\0\\AppData\\Local\\Programs\\Python\\Python310\\lib\\site-packages\\pandas\\io\\pytables.py:578\u001b[0m, in \u001b[0;36mHDFStore.__init__\u001b[1;34m(self, path, mode, complevel, complib, fletcher32, **kwargs)\u001b[0m\n\u001b[0;32m    576\u001b[0m \u001b[39mself\u001b[39m\u001b[39m.\u001b[39m_fletcher32 \u001b[39m=\u001b[39m fletcher32\n\u001b[0;32m    577\u001b[0m \u001b[39mself\u001b[39m\u001b[39m.\u001b[39m_filters \u001b[39m=\u001b[39m \u001b[39mNone\u001b[39;00m\n\u001b[1;32m--> 578\u001b[0m \u001b[39mself\u001b[39m\u001b[39m.\u001b[39mopen(mode\u001b[39m=\u001b[39mmode, \u001b[39m*\u001b[39m\u001b[39m*\u001b[39mkwargs)\n",
      "File \u001b[1;32mc:\\Users\\0\\AppData\\Local\\Programs\\Python\\Python310\\lib\\site-packages\\pandas\\io\\pytables.py:737\u001b[0m, in \u001b[0;36mHDFStore.open\u001b[1;34m(self, mode, **kwargs)\u001b[0m\n\u001b[0;32m    731\u001b[0m     msg \u001b[39m=\u001b[39m (\n\u001b[0;32m    732\u001b[0m         \u001b[39m\"\u001b[39m\u001b[39mCannot open HDF5 file, which is already opened, \u001b[39m\u001b[39m\"\u001b[39m\n\u001b[0;32m    733\u001b[0m         \u001b[39m\"\u001b[39m\u001b[39meven in read-only mode.\u001b[39m\u001b[39m\"\u001b[39m\n\u001b[0;32m    734\u001b[0m     )\n\u001b[0;32m    735\u001b[0m     \u001b[39mraise\u001b[39;00m \u001b[39mValueError\u001b[39;00m(msg)\n\u001b[1;32m--> 737\u001b[0m \u001b[39mself\u001b[39m\u001b[39m.\u001b[39m_handle \u001b[39m=\u001b[39m tables\u001b[39m.\u001b[39mopen_file(\u001b[39mself\u001b[39m\u001b[39m.\u001b[39m_path, \u001b[39mself\u001b[39m\u001b[39m.\u001b[39m_mode, \u001b[39m*\u001b[39m\u001b[39m*\u001b[39mkwargs)\n",
      "File \u001b[1;32mc:\\Users\\0\\AppData\\Local\\Programs\\Python\\Python310\\lib\\site-packages\\tables\\file.py:300\u001b[0m, in \u001b[0;36mopen_file\u001b[1;34m(filename, mode, title, root_uep, filters, **kwargs)\u001b[0m\n\u001b[0;32m    295\u001b[0m             \u001b[39mraise\u001b[39;00m \u001b[39mValueError\u001b[39;00m(\n\u001b[0;32m    296\u001b[0m                 \u001b[39m\"\u001b[39m\u001b[39mThe file \u001b[39m\u001b[39m'\u001b[39m\u001b[39m%s\u001b[39;00m\u001b[39m'\u001b[39m\u001b[39m is already opened.  Please \u001b[39m\u001b[39m\"\u001b[39m\n\u001b[0;32m    297\u001b[0m                 \u001b[39m\"\u001b[39m\u001b[39mclose it before reopening in write mode.\u001b[39m\u001b[39m\"\u001b[39m \u001b[39m%\u001b[39m filename)\n\u001b[0;32m    299\u001b[0m \u001b[39m# Finally, create the File instance, and return it\u001b[39;00m\n\u001b[1;32m--> 300\u001b[0m \u001b[39mreturn\u001b[39;00m File(filename, mode, title, root_uep, filters, \u001b[39m*\u001b[39m\u001b[39m*\u001b[39mkwargs)\n",
      "File \u001b[1;32mc:\\Users\\0\\AppData\\Local\\Programs\\Python\\Python310\\lib\\site-packages\\tables\\file.py:750\u001b[0m, in \u001b[0;36mFile.__init__\u001b[1;34m(self, filename, mode, title, root_uep, filters, **kwargs)\u001b[0m\n\u001b[0;32m    747\u001b[0m \u001b[39mself\u001b[39m\u001b[39m.\u001b[39mparams \u001b[39m=\u001b[39m params\n\u001b[0;32m    749\u001b[0m \u001b[39m# Now, it is time to initialize the File extension\u001b[39;00m\n\u001b[1;32m--> 750\u001b[0m \u001b[39mself\u001b[39m\u001b[39m.\u001b[39m_g_new(filename, mode, \u001b[39m*\u001b[39m\u001b[39m*\u001b[39mparams)\n\u001b[0;32m    752\u001b[0m \u001b[39m# Check filters and set PyTables format version for new files.\u001b[39;00m\n\u001b[0;32m    753\u001b[0m new \u001b[39m=\u001b[39m \u001b[39mself\u001b[39m\u001b[39m.\u001b[39m_v_new\n",
      "File \u001b[1;32mc:\\Users\\0\\AppData\\Local\\Programs\\Python\\Python310\\lib\\site-packages\\tables\\hdf5extension.pyx:366\u001b[0m, in \u001b[0;36mtables.hdf5extension.File._g_new\u001b[1;34m()\u001b[0m\n",
      "File \u001b[1;32mc:\\Users\\0\\AppData\\Local\\Programs\\Python\\Python310\\lib\\site-packages\\tables\\utils.py:169\u001b[0m, in \u001b[0;36mcheck_file_access\u001b[1;34m(filename, mode)\u001b[0m\n\u001b[0;32m    167\u001b[0m         check_file_access(path, \u001b[39m'\u001b[39m\u001b[39mr+\u001b[39m\u001b[39m'\u001b[39m)\n\u001b[0;32m    168\u001b[0m     \u001b[39melse\u001b[39;00m:\n\u001b[1;32m--> 169\u001b[0m         check_file_access(path, \u001b[39m'\u001b[39;49m\u001b[39mw\u001b[39;49m\u001b[39m'\u001b[39;49m)\n\u001b[0;32m    170\u001b[0m \u001b[39melif\u001b[39;00m mode \u001b[39m==\u001b[39m \u001b[39m'\u001b[39m\u001b[39mr+\u001b[39m\u001b[39m'\u001b[39m:\n\u001b[0;32m    171\u001b[0m     check_file_access(path, \u001b[39m'\u001b[39m\u001b[39mr\u001b[39m\u001b[39m'\u001b[39m)\n",
      "File \u001b[1;32mc:\\Users\\0\\AppData\\Local\\Programs\\Python\\Python310\\lib\\site-packages\\tables\\utils.py:157\u001b[0m, in \u001b[0;36mcheck_file_access\u001b[1;34m(filename, mode)\u001b[0m\n\u001b[0;32m    153\u001b[0m \u001b[39melse\u001b[39;00m:\n\u001b[0;32m    154\u001b[0m     \u001b[39m# A new file is going to be created,\u001b[39;00m\n\u001b[0;32m    155\u001b[0m     \u001b[39m# so the directory should be writable.\u001b[39;00m\n\u001b[0;32m    156\u001b[0m     \u001b[39mif\u001b[39;00m \u001b[39mnot\u001b[39;00m os\u001b[39m.\u001b[39maccess(path\u001b[39m.\u001b[39mparent, os\u001b[39m.\u001b[39mF_OK):\n\u001b[1;32m--> 157\u001b[0m         \u001b[39mraise\u001b[39;00m \u001b[39mFileNotFoundError\u001b[39;00m(\u001b[39mf\u001b[39m\u001b[39m\"\u001b[39m\u001b[39m``\u001b[39m\u001b[39m{\u001b[39;00mpath\u001b[39m.\u001b[39mparent\u001b[39m}\u001b[39;00m\u001b[39m`` does not exist\u001b[39m\u001b[39m\"\u001b[39m)\n\u001b[0;32m    158\u001b[0m     \u001b[39mif\u001b[39;00m \u001b[39mnot\u001b[39;00m path\u001b[39m.\u001b[39mparent\u001b[39m.\u001b[39mis_dir():\n\u001b[0;32m    159\u001b[0m         \u001b[39mraise\u001b[39;00m \u001b[39mNotADirectoryError\u001b[39;00m(\u001b[39mf\u001b[39m\u001b[39m\"\u001b[39m\u001b[39m``\u001b[39m\u001b[39m{\u001b[39;00mpath\u001b[39m.\u001b[39mparent\u001b[39m}\u001b[39;00m\u001b[39m`` is not a directory\u001b[39m\u001b[39m\"\u001b[39m)\n",
      "\u001b[1;31mFileNotFoundError\u001b[0m: ``F:\\Dropbox\\Projects\\001 - CNRL - Pipewise\\005 - Field Test\\2023\\data\\NI\\Converted Data\\Station 3`` does not exist"
     ]
    }
   ],
   "source": [
    "#convert_lvm_to_hdf5(full_raw_path, full_converted_path)\n",
    "#full_converted_path = \"F:/Dropbox/Projects/001 - CNRL - Pipewise/005 - Field Test/2023/data/NI/Converted Data/Station 2/st_2_test___007.h5\"\n",
    "# Importing\n",
    "data_frame = read_h5_to_dataframe(full_converted_path)"
   ]
  },
  {
   "attachments": {},
   "cell_type": "markdown",
   "metadata": {},
   "source": [
    "## Header"
   ]
  },
  {
   "cell_type": "code",
   "execution_count": 11,
   "metadata": {},
   "outputs": [
    {
     "name": "stdout",
     "output_type": "stream",
     "text": [
      "    X_Value  D1 - Channel 0  D1 - Channel 1  D1 - Channel 2  D2 - Channel 0  \\\n",
      "0  0.000000        0.015461       -0.013692       -0.000745        0.004299   \n",
      "1  0.000098        0.001120        0.003359       -0.000745        0.004618   \n",
      "2  0.000195       -0.010034        0.015988        0.005630       -0.005270   \n",
      "3  0.000293       -0.016408        0.009042        0.026348       -0.011011   \n",
      "4  0.000391       -0.015133       -0.014639        0.032404       -0.014838   \n",
      "\n",
      "   D2 - Channel 1  D2 - Channel 2  D1 - Channel 3  D2 - Channel 3  \\\n",
      "0       -0.022961       -0.003435        0.000910        0.058236   \n",
      "1       -0.014746        0.010591        0.001226       -0.243874   \n",
      "2       -0.008427        0.023023        0.000910       -0.503954   \n",
      "3       -0.004636        0.030674        0.000593       -0.587066   \n",
      "4       -0.007795        0.025254        0.001226       -0.445492   \n",
      "\n",
      "   D3 - Channel 0  D3 - Channel 1  D3 - Channel 2  D4 - Channel 0  \\\n",
      "0        0.011889       -0.026279       -0.055773       -0.000518   \n",
      "1        0.010613       -0.030388       -0.044621       -0.003827   \n",
      "2        0.015399       -0.020274       -0.009887       -0.003421   \n",
      "3        0.015399       -0.007948       -0.016898       -0.000465   \n",
      "4        0.010932        0.002166       -0.027413        0.003960   \n",
      "\n",
      "   D4 - Channel 1  D4 - Channel 2  \n",
      "0       -0.001376       -0.011426  \n",
      "1        0.007702       -0.011340  \n",
      "2        0.012057       -0.007700  \n",
      "3        0.012923        0.005731  \n",
      "4        0.013568        0.016559  \n"
     ]
    }
   ],
   "source": [
    "print(data_frame.head())"
   ]
  },
  {
   "attachments": {},
   "cell_type": "markdown",
   "metadata": {},
   "source": [
    "## Meta Validation"
   ]
  },
  {
   "attachments": {},
   "cell_type": "markdown",
   "metadata": {},
   "source": [
    "### Data Points & Recording Time"
   ]
  },
  {
   "cell_type": "code",
   "execution_count": 12,
   "metadata": {},
   "outputs": [
    {
     "name": "stdout",
     "output_type": "stream",
     "text": [
      "Number of data points in the first column: 300000\n",
      "Data was recorded for 29.3 seconds\n",
      "Data was recorded for 0.49 minutes\n",
      "Data was recorded for 0.01 hours\n"
     ]
    }
   ],
   "source": [
    "# Access the first column using its index and count the number of data points\n",
    "time_values = data_frame.iloc[:, 0]\n",
    "data_points_count = time_values.count()\n",
    "\n",
    "# Workaround to account for files that don't start at 0 seconds\n",
    "initial_recording_time = time_values.iloc[0]\n",
    "final_recording_time = time_values.iloc[-1]\n",
    "delta_recording_time = final_recording_time - initial_recording_time\n",
    "\n",
    "print(\"Number of data points in the first column:\", data_points_count)\n",
    "print(\"Data was recorded for\", round(delta_recording_time,2), \"seconds\")\n",
    "print(\"Data was recorded for\", round(delta_recording_time/60,2), \"minutes\")\n",
    "print(\"Data was recorded for\", round(delta_recording_time/3600,2), \"hours\")"
   ]
  },
  {
   "attachments": {},
   "cell_type": "markdown",
   "metadata": {},
   "source": [
    "### Sampling rate, Consistency and CV"
   ]
  },
  {
   "cell_type": "code",
   "execution_count": 13,
   "metadata": {},
   "outputs": [
    {
     "name": "stdout",
     "output_type": "stream",
     "text": [
      "Expected sampling rate: 10000 Hz\n",
      "Effective sampling rate: 10240.00 Hz\n",
      "Number of time intervals exceeding 5.0% deviation: 0\n",
      "Percentage of time intervals exceeding 5.0% deviation: 0.00%\n"
     ]
    }
   ],
   "source": [
    "# Calculate the time differences between consecutive data points\n",
    "time_differences = time_values.diff().dropna()\n",
    "\n",
    "# Define the expected sampling rate (in Hz) and maximum allowed deviation (in percentage)\n",
    "expected_sampling_rate = 10000  # Replace with your expected sampling rate\n",
    "max_allowed_deviation = 0.05  # 5% deviation, for example\n",
    "\n",
    "# Calculate the expected time difference between consecutive data points\n",
    "expected_time_difference = 1 / expected_sampling_rate\n",
    "\n",
    "# Calculate the deviation of each time difference from the expected time difference\n",
    "deviation = np.abs(time_differences - expected_time_difference)\n",
    "\n",
    "# Count the number of time intervals that exceed the maximum allowed deviation\n",
    "exceed_threshold_count = np.sum(deviation > max_allowed_deviation * expected_time_difference)\n",
    "\n",
    "# Calculate the percentage of time intervals that exceed the maximum allowed deviation\n",
    "exceed_threshold_percentage = exceed_threshold_count / len(time_differences) * 100\n",
    "\n",
    "# Calculate the effective sampling rate\n",
    "effective_sampling_rate = 1 / time_differences.mean()\n",
    "\n",
    "print(f\"Expected sampling rate: {expected_sampling_rate} Hz\")\n",
    "print(f\"Effective sampling rate: {effective_sampling_rate:.2f} Hz\")\n",
    "print(f\"Number of time intervals exceeding {max_allowed_deviation * 100}% deviation: {exceed_threshold_count}\")\n",
    "print(f\"Percentage of time intervals exceeding {max_allowed_deviation * 100}% deviation: {exceed_threshold_percentage:.2f}%\")\n"
   ]
  },
  {
   "cell_type": "code",
   "execution_count": 14,
   "metadata": {},
   "outputs": [
    {
     "data": {
      "image/png": "[encoded data removed]",
      "text/plain": [
       "<Figure size 864x432 with 1 Axes>"
      ]
     },
     "metadata": {
      "needs_background": "light"
     },
     "output_type": "display_data"
    }
   ],
   "source": [
    "import matplotlib.pyplot as plt\n",
    "\n",
    "# Remove the first value from time_values to match the length of time_differences\n",
    "adjusted_time_values = time_values.iloc[1:]\n",
    "\n",
    "plt.figure(figsize=(12, 6))\n",
    "plt.plot(adjusted_time_values, time_differences)\n",
    "plt.xlabel(\"Time (s)\")\n",
    "plt.ylabel(\"Time differences\")\n",
    "plt.title(\"Time Differences between Consecutive Data Points\")\n",
    "plt.show()"
   ]
  },
  {
   "attachments": {},
   "cell_type": "markdown",
   "metadata": {},
   "source": [
    "### Disk Space Required"
   ]
  },
  {
   "cell_type": "code",
   "execution_count": 16,
   "metadata": {},
   "outputs": [
    {
     "name": "stdout",
     "output_type": "stream",
     "text": [
      "Disk space per second: 1.4 MB/s\n",
      "Disk space per minute: 84.02 MB/min\n",
      "Disk space per hour: 4.92 GB/hour\n"
     ]
    }
   ],
   "source": [
    "# Calculate the duration in seconds\n",
    "start_time = data_frame.iloc[0, 0]\n",
    "end_time = data_frame.iloc[-1, 0]\n",
    "duration_seconds = end_time - start_time\n",
    "\n",
    "# Get the file size in bytes\n",
    "file_size_bytes = os.path.getsize(full_raw_path)\n",
    "\n",
    "# Convert file size to megabytes\n",
    "file_size_mb = file_size_bytes / (1024 * 1024)\n",
    "\n",
    "# Calculate disk space per second in megabytes\n",
    "disk_space_per_second_mb = file_size_mb / duration_seconds\n",
    "\n",
    "print(f\"Disk space per second: {round(disk_space_per_second_mb,2)} MB/s\")\n",
    "\n",
    "print(f\"Disk space per minute: {round(disk_space_per_second_mb*60,2)} MB/min\")\n",
    "\n",
    "print(f\"Disk space per hour: {round(disk_space_per_second_mb*60*60/1024,2)} GB/hour\")"
   ]
  },
  {
   "cell_type": "code",
   "execution_count": 29,
   "metadata": {},
   "outputs": [],
   "source": [
    "# Apply the condition to all channels except for the first one (time_values)\n",
    "# If a value is greater than 5 or less than -5, set it to zero\n",
    "#data_frame.iloc[:, 1:] = data_frame.iloc[:, 1:].applymap(lambda x: 0 if x > 5 or x < -5 else x)"
   ]
  },
  {
   "attachments": {},
   "cell_type": "markdown",
   "metadata": {},
   "source": [
    "## Signal"
   ]
  },
  {
   "attachments": {},
   "cell_type": "markdown",
   "metadata": {},
   "source": [
    "### Device 1"
   ]
  },
  {
   "cell_type": "code",
   "execution_count": 19,
   "metadata": {},
   "outputs": [
    {
     "data": {
      "image/png": "[encoded data removed]",
      "text/plain": [
       "<Figure size 432x288 with 1 Axes>"
      ]
     },
     "metadata": {
      "needs_background": "light"
     },
     "output_type": "display_data"
    }
   ],
   "source": [
    "time_values = data_frame.iloc[:, 0]\n",
    "device_data = data_frame[[\"D1 - Channel 0\", \"D1 - Channel 1\", \"D1 - Channel 2\"]]\n",
    "\n",
    "# Plot the first three columns with time_values as the x-axis\n",
    "for column in device_data.columns:\n",
    "    plt.plot(time_values, device_data[column], label=column)\n",
    "\n",
    "#plt.xlim((16550, 16550.1))\n",
    "#plt.ylim((-10, 11))\n",
    "\n",
    "# Customize the plot\n",
    "plt.xlabel('Time [s]')\n",
    "plt.ylabel('Value [V]')\n",
    "plt.title('D1 Ch 0 - 2')\n",
    "plt.legend(device_data.columns, loc='best')\n",
    "\n",
    "# Show the plot\n",
    "plt.show()\n"
   ]
  },
  {
   "attachments": {},
   "cell_type": "markdown",
   "metadata": {},
   "source": [
    "### Device 2"
   ]
  },
  {
   "cell_type": "code",
   "execution_count": 20,
   "metadata": {},
   "outputs": [
    {
     "data": {
      "image/png": "[encoded data removed]",
      "text/plain": [
       "<Figure size 432x288 with 1 Axes>"
      ]
     },
     "metadata": {
      "needs_background": "light"
     },
     "output_type": "display_data"
    }
   ],
   "source": [
    "time_values = data_frame.iloc[:, 0]\n",
    "device_data = data_frame[[\"D2 - Channel 0\", \"D2 - Channel 1\", \"D2 - Channel 2\"]]\n",
    "\n",
    "# Plot the first three columns with time_values as the x-axis\n",
    "for column in device_data.columns:\n",
    "    plt.plot(time_values, device_data[column], label=column)\n",
    "\n",
    "#plt.xlim((-10, 11))\n",
    "#plt.ylim((-10, 11))\n",
    "\n",
    "# Customize the plot\n",
    "plt.xlabel('Time [s]')\n",
    "plt.ylabel('Value [V]')\n",
    "plt.title('D2 Ch 0 - 2')\n",
    "plt.legend(device_data.columns, loc='best')\n",
    "\n",
    "# Show the plot\n",
    "plt.show()\n"
   ]
  },
  {
   "attachments": {},
   "cell_type": "markdown",
   "metadata": {},
   "source": [
    "### IRIG-B"
   ]
  },
  {
   "cell_type": "code",
   "execution_count": 26,
   "metadata": {},
   "outputs": [
    {
     "data": {
      "image/png": "[encoded data removed]",
      "text/plain": [
       "<Figure size 432x288 with 1 Axes>"
      ]
     },
     "metadata": {
      "needs_background": "light"
     },
     "output_type": "display_data"
    }
   ],
   "source": [
    "time_values = data_frame.iloc[:, 0]\n",
    "device_data = data_frame[[\"D1 - Channel 3\", \"D2 - Channel 3\"]]\n",
    "\n",
    "# Plot the first three columns with time_values as the x-axis\n",
    "for column in device_data.columns:\n",
    "    plt.plot(time_values, device_data[column], label=column)\n",
    "\n",
    "#plt.xlim((10, 11))\n",
    "#plt.ylim((-10, 11))\n",
    "\n",
    "# Customize the plot\n",
    "plt.xlabel('Time [s]')\n",
    "plt.ylabel('Value [V]')\n",
    "plt.title('D1 Ch 3, D2 Ch 3')\n",
    "plt.legend(device_data.columns, loc='best')\n",
    "\n",
    "# Show the plot\n",
    "plt.show()\n"
   ]
  },
  {
   "attachments": {},
   "cell_type": "markdown",
   "metadata": {},
   "source": [
    "## Device 3"
   ]
  },
  {
   "cell_type": "code",
   "execution_count": 22,
   "metadata": {},
   "outputs": [
    {
     "data": {
      "image/png": "[encoded data removed]",
      "text/plain": [
       "<Figure size 432x288 with 1 Axes>"
      ]
     },
     "metadata": {
      "needs_background": "light"
     },
     "output_type": "display_data"
    }
   ],
   "source": [
    "time_values = data_frame.iloc[:, 0]\n",
    "device_data = data_frame[[\"D3 - Channel 0\", \"D3 - Channel 1\", \"D3 - Channel 2\"]]\n",
    "\n",
    "# Plot the first three columns with time_values as the x-axis\n",
    "for column in device_data.columns:\n",
    "    plt.plot(time_values, device_data[column], label=column)\n",
    "\n",
    "#plt.xlim((35, 40))\n",
    "#plt.ylim((-2, 2))\n",
    "\n",
    "# Customize the plot\n",
    "plt.xlabel('Time [s]')\n",
    "plt.ylabel('Value [V]')\n",
    "plt.title('D3 Ch 0 - 2')\n",
    "plt.legend(device_data.columns, loc='best')\n",
    "\n",
    "# Show the plot\n",
    "plt.show()\n"
   ]
  },
  {
   "attachments": {},
   "cell_type": "markdown",
   "metadata": {},
   "source": [
    "## Device 4"
   ]
  },
  {
   "cell_type": "code",
   "execution_count": 23,
   "metadata": {},
   "outputs": [
    {
     "data": {
      "image/png": "[encoded data removed]",
      "text/plain": [
       "<Figure size 432x288 with 1 Axes>"
      ]
     },
     "metadata": {
      "needs_background": "light"
     },
     "output_type": "display_data"
    }
   ],
   "source": [
    "time_values = data_frame.iloc[:, 0]\n",
    "device_data = data_frame[[\"D4 - Channel 0\", \"D4 - Channel 1\", \"D4 - Channel 2\"]]\n",
    "\n",
    "# Plot the first three columns with time_values as the x-axis\n",
    "for column in device_data.columns:\n",
    "    plt.plot(time_values, device_data[column], label=column)\n",
    "\n",
    "plt.xlim((45, 50))\n",
    "plt.ylim((-2, 2))\n",
    "\n",
    "# Customize the plot\n",
    "plt.xlabel('Time [s]')\n",
    "plt.ylabel('Value [V]')\n",
    "plt.title('D4 Ch 0 - 2')\n",
    "plt.legend(device_data.columns, loc='best')\n",
    "\n",
    "# Show the plot\n",
    "plt.show()"
   ]
  },
  {
   "cell_type": "code",
   "execution_count": 24,
   "metadata": {},
   "outputs": [
    {
     "ename": "KeyError",
     "evalue": "\"None of [Index(['D4 - Temperature'], dtype='object')] are in the [columns]\"",
     "output_type": "error",
     "traceback": [
      "\u001b[1;31m---------------------------------------------------------------------------\u001b[0m",
      "\u001b[1;31mKeyError\u001b[0m                                  Traceback (most recent call last)",
      "\u001b[1;32mf:\\code\\python\\projects\\Field-Test-Ferrier-2023\\data processing\\validate_NI_data.ipynb Cell 32\u001b[0m in \u001b[0;36m<module>\u001b[1;34m\u001b[0m\n\u001b[0;32m      <a href='vscode-notebook-cell:/f%3A/code/python/projects/Field-Test-Ferrier-2023/data%20processing/validate_NI_data.ipynb#X43sZmlsZQ%3D%3D?line=0'>1</a>\u001b[0m time_values \u001b[39m=\u001b[39m data_frame\u001b[39m.\u001b[39miloc[:, \u001b[39m0\u001b[39m]\n\u001b[1;32m----> <a href='vscode-notebook-cell:/f%3A/code/python/projects/Field-Test-Ferrier-2023/data%20processing/validate_NI_data.ipynb#X43sZmlsZQ%3D%3D?line=1'>2</a>\u001b[0m device_data \u001b[39m=\u001b[39m data_frame[[\u001b[39m\"\u001b[39;49m\u001b[39mD4 - Temperature\u001b[39;49m\u001b[39m\"\u001b[39;49m]]\n\u001b[0;32m      <a href='vscode-notebook-cell:/f%3A/code/python/projects/Field-Test-Ferrier-2023/data%20processing/validate_NI_data.ipynb#X43sZmlsZQ%3D%3D?line=3'>4</a>\u001b[0m \u001b[39m# Plot the first three columns with time_values as the x-axis\u001b[39;00m\n\u001b[0;32m      <a href='vscode-notebook-cell:/f%3A/code/python/projects/Field-Test-Ferrier-2023/data%20processing/validate_NI_data.ipynb#X43sZmlsZQ%3D%3D?line=4'>5</a>\u001b[0m \u001b[39mfor\u001b[39;00m column \u001b[39min\u001b[39;00m device_data\u001b[39m.\u001b[39mcolumns:\n",
      "File \u001b[1;32mc:\\Users\\0\\AppData\\Local\\Programs\\Python\\Python310\\lib\\site-packages\\pandas\\core\\frame.py:3813\u001b[0m, in \u001b[0;36mDataFrame.__getitem__\u001b[1;34m(self, key)\u001b[0m\n\u001b[0;32m   3811\u001b[0m     \u001b[39mif\u001b[39;00m is_iterator(key):\n\u001b[0;32m   3812\u001b[0m         key \u001b[39m=\u001b[39m \u001b[39mlist\u001b[39m(key)\n\u001b[1;32m-> 3813\u001b[0m     indexer \u001b[39m=\u001b[39m \u001b[39mself\u001b[39;49m\u001b[39m.\u001b[39;49mcolumns\u001b[39m.\u001b[39;49m_get_indexer_strict(key, \u001b[39m\"\u001b[39;49m\u001b[39mcolumns\u001b[39;49m\u001b[39m\"\u001b[39;49m)[\u001b[39m1\u001b[39m]\n\u001b[0;32m   3815\u001b[0m \u001b[39m# take() does not accept boolean indexers\u001b[39;00m\n\u001b[0;32m   3816\u001b[0m \u001b[39mif\u001b[39;00m \u001b[39mgetattr\u001b[39m(indexer, \u001b[39m\"\u001b[39m\u001b[39mdtype\u001b[39m\u001b[39m\"\u001b[39m, \u001b[39mNone\u001b[39;00m) \u001b[39m==\u001b[39m \u001b[39mbool\u001b[39m:\n",
      "File \u001b[1;32mc:\\Users\\0\\AppData\\Local\\Programs\\Python\\Python310\\lib\\site-packages\\pandas\\core\\indexes\\base.py:6070\u001b[0m, in \u001b[0;36mIndex._get_indexer_strict\u001b[1;34m(self, key, axis_name)\u001b[0m\n\u001b[0;32m   6067\u001b[0m \u001b[39melse\u001b[39;00m:\n\u001b[0;32m   6068\u001b[0m     keyarr, indexer, new_indexer \u001b[39m=\u001b[39m \u001b[39mself\u001b[39m\u001b[39m.\u001b[39m_reindex_non_unique(keyarr)\n\u001b[1;32m-> 6070\u001b[0m \u001b[39mself\u001b[39;49m\u001b[39m.\u001b[39;49m_raise_if_missing(keyarr, indexer, axis_name)\n\u001b[0;32m   6072\u001b[0m keyarr \u001b[39m=\u001b[39m \u001b[39mself\u001b[39m\u001b[39m.\u001b[39mtake(indexer)\n\u001b[0;32m   6073\u001b[0m \u001b[39mif\u001b[39;00m \u001b[39misinstance\u001b[39m(key, Index):\n\u001b[0;32m   6074\u001b[0m     \u001b[39m# GH 42790 - Preserve name from an Index\u001b[39;00m\n",
      "File \u001b[1;32mc:\\Users\\0\\AppData\\Local\\Programs\\Python\\Python310\\lib\\site-packages\\pandas\\core\\indexes\\base.py:6130\u001b[0m, in \u001b[0;36mIndex._raise_if_missing\u001b[1;34m(self, key, indexer, axis_name)\u001b[0m\n\u001b[0;32m   6128\u001b[0m     \u001b[39mif\u001b[39;00m use_interval_msg:\n\u001b[0;32m   6129\u001b[0m         key \u001b[39m=\u001b[39m \u001b[39mlist\u001b[39m(key)\n\u001b[1;32m-> 6130\u001b[0m     \u001b[39mraise\u001b[39;00m \u001b[39mKeyError\u001b[39;00m(\u001b[39mf\u001b[39m\u001b[39m\"\u001b[39m\u001b[39mNone of [\u001b[39m\u001b[39m{\u001b[39;00mkey\u001b[39m}\u001b[39;00m\u001b[39m] are in the [\u001b[39m\u001b[39m{\u001b[39;00maxis_name\u001b[39m}\u001b[39;00m\u001b[39m]\u001b[39m\u001b[39m\"\u001b[39m)\n\u001b[0;32m   6132\u001b[0m not_found \u001b[39m=\u001b[39m \u001b[39mlist\u001b[39m(ensure_index(key)[missing_mask\u001b[39m.\u001b[39mnonzero()[\u001b[39m0\u001b[39m]]\u001b[39m.\u001b[39munique())\n\u001b[0;32m   6133\u001b[0m \u001b[39mraise\u001b[39;00m \u001b[39mKeyError\u001b[39;00m(\u001b[39mf\u001b[39m\u001b[39m\"\u001b[39m\u001b[39m{\u001b[39;00mnot_found\u001b[39m}\u001b[39;00m\u001b[39m not in index\u001b[39m\u001b[39m\"\u001b[39m)\n",
      "\u001b[1;31mKeyError\u001b[0m: \"None of [Index(['D4 - Temperature'], dtype='object')] are in the [columns]\""
     ]
    }
   ],
   "source": [
    "time_values = data_frame.iloc[:, 0]\n",
    "device_data = data_frame[[\"D4 - Temperature\"]]\n",
    "\n",
    "# Plot the first three columns with time_values as the x-axis\n",
    "for column in device_data.columns:\n",
    "    plt.plot(time_values, device_data[column], label=column)\n",
    "\n",
    "#plt.xlim((45, 50))\n",
    "#plt.ylim((-2, 2))\n",
    "\n",
    "# Customize the plot\n",
    "plt.xlabel('Time [s]')\n",
    "plt.ylabel('Value [V]')\n",
    "plt.title('D4')\n",
    "plt.legend(device_data.columns, loc='best')\n",
    "\n",
    "# Show the plot\n",
    "plt.show()"
   ]
  }
 ],
 "metadata": {
  "kernelspec": {
   "display_name": "Python 3",
   "language": "python",
   "name": "python3"
  },
  "language_info": {
   "codemirror_mode": {
    "name": "ipython",
    "version": 3
   },
   "file_extension": ".py",
   "mimetype": "text/x-python",
   "name": "python",
   "nbconvert_exporter": "python",
   "pygments_lexer": "ipython3",
   "version": "3.10.9"
  },
  "orig_nbformat": 4
 },
 "nbformat": 4,
 "nbformat_minor": 2
}
