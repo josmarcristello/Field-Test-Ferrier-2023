{
 "cells": [
  {
   "cell_type": "code",
   "execution_count": 3,
   "metadata": {},
   "outputs": [],
   "source": [
    "import sys\n",
    "import matplotlib.pyplot as plt\n",
    "import pandas as pd\n",
    "import numpy as np"
   ]
  },
  {
   "attachments": {},
   "cell_type": "markdown",
   "metadata": {},
   "source": [
    "# Importing Data"
   ]
  },
  {
   "attachments": {},
   "cell_type": "markdown",
   "metadata": {},
   "source": [
    "## Define Data Folders"
   ]
  },
  {
   "cell_type": "code",
   "execution_count": 1,
   "metadata": {},
   "outputs": [],
   "source": [
    "parent_data_folder = \"F:/Dropbox/Projects/001 - CNRL - Pipewise/005 - Field Test/2023/data\"\n",
    "#TEAC_raw_data_folder = parent_data_folder + \"/TEAC/Raw Data/\"\n",
    "raw_test_name = parent_data_folder + \"/data.csv\""
   ]
  },
  {
   "cell_type": "code",
   "execution_count": 4,
   "metadata": {},
   "outputs": [],
   "source": [
    "data_frame = pd.read_csv(raw_test_name)"
   ]
  },
  {
   "cell_type": "code",
   "execution_count": 6,
   "metadata": {},
   "outputs": [],
   "source": [
    "# Convert the time column to datetime objects\n",
    "data_frame['time'] = pd.to_datetime(data_frame['time'])"
   ]
  },
  {
   "cell_type": "code",
   "execution_count": 14,
   "metadata": {},
   "outputs": [],
   "source": [
    "# Calculate the relative time in seconds\n",
    "data_frame['relative_time'] = (data_frame['time'] - data_frame['time'].iloc[0]).dt.total_seconds()\n",
    "\n",
    "# Access the relative time column\n",
    "time_values = data_frame['relative_time']\n"
   ]
  },
  {
   "cell_type": "code",
   "execution_count": 15,
   "metadata": {},
   "outputs": [
    {
     "name": "stdout",
     "output_type": "stream",
     "text": [
      "                               time  Channel 0  Channel 1  relative_time\n",
      "0        2023-05-10 12:42:02.926356   1.040632   0.927865       0.000000\n",
      "1        2023-05-10 12:42:02.926542   1.005348   0.893043       0.000186\n",
      "2        2023-05-10 12:42:02.926582   0.986170   0.874228       0.000226\n",
      "3        2023-05-10 12:42:02.926616   0.952052   0.840538       0.000260\n",
      "4        2023-05-10 12:42:02.926648   0.934415   0.823263       0.000292\n",
      "...                             ...        ...        ...            ...\n",
      "21334725 2023-05-10 13:49:09.175993   0.038403   0.035951    4026.249637\n",
      "21334726 2023-05-10 13:49:09.176036   0.018348   0.017006    4026.249680\n",
      "21334727 2023-05-10 13:49:09.176073   0.007955   0.006875    4026.249717\n",
      "21334728 2023-05-10 13:49:09.176108  -0.004213  -0.004209    4026.249752\n",
      "21334729 2023-05-10 13:49:09.176142  -0.010490  -0.009885    4026.249786\n",
      "\n",
      "[21334730 rows x 4 columns]\n"
     ]
    }
   ],
   "source": [
    "print(data_frame)"
   ]
  },
  {
   "attachments": {},
   "cell_type": "markdown",
   "metadata": {},
   "source": [
    "## Shape into Dataframe"
   ]
  },
  {
   "attachments": {},
   "cell_type": "markdown",
   "metadata": {},
   "source": [
    "# Meta Validation"
   ]
  },
  {
   "attachments": {},
   "cell_type": "markdown",
   "metadata": {},
   "source": [
    "### Maximum, minimums and average"
   ]
  },
  {
   "cell_type": "code",
   "execution_count": 37,
   "metadata": {},
   "outputs": [],
   "source": [
    "# Calculate the maximum, minimum, and average values\n",
    "max_values = data_frame.max()\n",
    "min_values = data_frame.min()\n",
    "average_values = data_frame.mean()\n",
    "\n",
    "# Create a DataFrame with the results\n",
    "stats_df = pd.DataFrame({'Maximum': max_values, 'Minimum': min_values, 'Average': average_values})\n",
    "\n",
    "# Round the values to 1 decimal place\n",
    "stats_df_rounded = stats_df.round(1)\n",
    "\n",
    "# Display the results in a tabular format\n",
    "print(stats_df_rounded)\n",
    "\n",
    "# Note: values of 0.0 indicate that - most likely - the channel was not used"
   ]
  },
  {
   "attachments": {},
   "cell_type": "markdown",
   "metadata": {},
   "source": [
    "### Data Points & Recording Time"
   ]
  },
  {
   "cell_type": "code",
   "execution_count": 16,
   "metadata": {},
   "outputs": [
    {
     "name": "stdout",
     "output_type": "stream",
     "text": [
      "Number of data points in the first column: 21334730\n",
      "Data was recorded for 4026.25 seconds\n",
      "Data was recorded for 67.1 minutes\n",
      "Data was recorded for 1.12 hours\n"
     ]
    }
   ],
   "source": [
    "# Access the first column using its index and count the number of data points\n",
    "#time_values = data_frame.iloc[:, 0]\n",
    "#data_points_count = time_values.count()\n",
    "\n",
    "# Workaround to account for files that don't start at 0 seconds\n",
    "initial_recording_time = time_values.iloc[0]\n",
    "final_recording_time = time_values.iloc[-1]\n",
    "delta_recording_time = final_recording_time - initial_recording_time\n",
    "\n",
    "print(\"Number of data points in the first column:\", data_points_count)\n",
    "print(\"Data was recorded for\", round(delta_recording_time,2), \"seconds\")\n",
    "print(\"Data was recorded for\", round(delta_recording_time/60,2), \"minutes\")\n",
    "print(\"Data was recorded for\", round(delta_recording_time/3600,2), \"hours\")"
   ]
  },
  {
   "attachments": {},
   "cell_type": "markdown",
   "metadata": {},
   "source": [
    "### Sampling rate, Consistency and CV"
   ]
  },
  {
   "cell_type": "code",
   "execution_count": 20,
   "metadata": {},
   "outputs": [
    {
     "name": "stdout",
     "output_type": "stream",
     "text": [
      "Expected sampling rate: 12000 Hz\n",
      "Effective sampling rate: 5298.91 Hz\n",
      "Number of time intervals exceeding 5.0% deviation: 21301152\n",
      "Percentage of time intervals exceeding 5.0% deviation: 99.84%\n"
     ]
    }
   ],
   "source": [
    "# Calculate the time differences between consecutive data points\n",
    "time_differences = time_values.diff().dropna()\n",
    "\n",
    "# Define the expected sampling rate (in Hz) and maximum allowed deviation (in percentage)\n",
    "expected_sampling_rate = 12000  # Replace with your expected sampling rate\n",
    "max_allowed_deviation = 0.05  # 5% deviation, for example\n",
    "\n",
    "# Calculate the expected time difference between consecutive data points\n",
    "expected_time_difference = 1 / expected_sampling_rate\n",
    "\n",
    "# Calculate the deviation of each time difference from the expected time difference\n",
    "deviation = np.abs(time_differences - expected_time_difference)\n",
    "\n",
    "# Count the number of time intervals that exceed the maximum allowed deviation\n",
    "exceed_threshold_count = np.sum(deviation > max_allowed_deviation * expected_time_difference)\n",
    "\n",
    "# Calculate the percentage of time intervals that exceed the maximum allowed deviation\n",
    "exceed_threshold_percentage = exceed_threshold_count / len(time_differences) * 100\n",
    "\n",
    "# Calculate the effective sampling rate\n",
    "effective_sampling_rate = 1 / time_differences.mean()\n",
    "\n",
    "print(f\"Expected sampling rate: {expected_sampling_rate} Hz\")\n",
    "print(f\"Effective sampling rate: {effective_sampling_rate:.2f} Hz\")\n",
    "print(f\"Number of time intervals exceeding {max_allowed_deviation * 100}% deviation: {exceed_threshold_count}\")\n",
    "print(f\"Percentage of time intervals exceeding {max_allowed_deviation * 100}% deviation: {exceed_threshold_percentage:.2f}%\")"
   ]
  },
  {
   "cell_type": "code",
   "execution_count": 22,
   "metadata": {},
   "outputs": [
    {
     "data": {
      "image/png": "[encoded data removed]",
      "text/plain": [
       "<Figure size 1200x600 with 1 Axes>"
      ]
     },
     "metadata": {},
     "output_type": "display_data"
    }
   ],
   "source": [
    "import matplotlib.pyplot as plt\n",
    "\n",
    "# Remove the first value from time_values to match the length of time_differences\n",
    "adjusted_time_values = time_values.iloc[1:]\n",
    "\n",
    "plt.figure(figsize=(12, 6))\n",
    "plt.plot(adjusted_time_values, time_differences)\n",
    "plt.xlabel(\"Time (s)\")\n",
    "plt.ylabel(\"Time differences\")\n",
    "plt.title(\"Time Differences between Consecutive Data Points\")\n",
    "plt.show()"
   ]
  },
  {
   "attachments": {},
   "cell_type": "markdown",
   "metadata": {},
   "source": [
    "# Signal"
   ]
  },
  {
   "attachments": {},
   "cell_type": "markdown",
   "metadata": {},
   "source": [
    "Plots a single channel against time. Note: To plot a full test length takes a significant amount of time"
   ]
  },
  {
   "cell_type": "code",
   "execution_count": 23,
   "metadata": {},
   "outputs": [
    {
     "ename": "KeyError",
     "evalue": "\"None of [Index(['CH13'], dtype='object')] are in the [columns]\"",
     "output_type": "error",
     "traceback": [
      "\u001b[1;31m---------------------------------------------------------------------------\u001b[0m",
      "\u001b[1;31mKeyError\u001b[0m                                  Traceback (most recent call last)",
      "Cell \u001b[1;32mIn[23], line 2\u001b[0m\n\u001b[0;32m      1\u001b[0m time_values \u001b[39m=\u001b[39m data_frame\u001b[39m.\u001b[39miloc[:, \u001b[39m0\u001b[39m]\n\u001b[1;32m----> 2\u001b[0m device_data \u001b[39m=\u001b[39m data_frame[[\u001b[39m\"\u001b[39;49m\u001b[39mCH13\u001b[39;49m\u001b[39m\"\u001b[39;49m]]\n\u001b[0;32m      4\u001b[0m \u001b[39m# Plot the first three columns with time_values as the x-axis\u001b[39;00m\n\u001b[0;32m      5\u001b[0m \u001b[39mfor\u001b[39;00m column \u001b[39min\u001b[39;00m device_data\u001b[39m.\u001b[39mcolumns:\n",
      "File \u001b[1;32mf:\\code\\python\\projects\\Field-Test-Ferrier-2023\\.venv\\lib\\site-packages\\pandas\\core\\frame.py:3767\u001b[0m, in \u001b[0;36mDataFrame.__getitem__\u001b[1;34m(self, key)\u001b[0m\n\u001b[0;32m   3765\u001b[0m     \u001b[39mif\u001b[39;00m is_iterator(key):\n\u001b[0;32m   3766\u001b[0m         key \u001b[39m=\u001b[39m \u001b[39mlist\u001b[39m(key)\n\u001b[1;32m-> 3767\u001b[0m     indexer \u001b[39m=\u001b[39m \u001b[39mself\u001b[39;49m\u001b[39m.\u001b[39;49mcolumns\u001b[39m.\u001b[39;49m_get_indexer_strict(key, \u001b[39m\"\u001b[39;49m\u001b[39mcolumns\u001b[39;49m\u001b[39m\"\u001b[39;49m)[\u001b[39m1\u001b[39m]\n\u001b[0;32m   3769\u001b[0m \u001b[39m# take() does not accept boolean indexers\u001b[39;00m\n\u001b[0;32m   3770\u001b[0m \u001b[39mif\u001b[39;00m \u001b[39mgetattr\u001b[39m(indexer, \u001b[39m\"\u001b[39m\u001b[39mdtype\u001b[39m\u001b[39m\"\u001b[39m, \u001b[39mNone\u001b[39;00m) \u001b[39m==\u001b[39m \u001b[39mbool\u001b[39m:\n",
      "File \u001b[1;32mf:\\code\\python\\projects\\Field-Test-Ferrier-2023\\.venv\\lib\\site-packages\\pandas\\core\\indexes\\base.py:5876\u001b[0m, in \u001b[0;36mIndex._get_indexer_strict\u001b[1;34m(self, key, axis_name)\u001b[0m\n\u001b[0;32m   5873\u001b[0m \u001b[39melse\u001b[39;00m:\n\u001b[0;32m   5874\u001b[0m     keyarr, indexer, new_indexer \u001b[39m=\u001b[39m \u001b[39mself\u001b[39m\u001b[39m.\u001b[39m_reindex_non_unique(keyarr)\n\u001b[1;32m-> 5876\u001b[0m \u001b[39mself\u001b[39;49m\u001b[39m.\u001b[39;49m_raise_if_missing(keyarr, indexer, axis_name)\n\u001b[0;32m   5878\u001b[0m keyarr \u001b[39m=\u001b[39m \u001b[39mself\u001b[39m\u001b[39m.\u001b[39mtake(indexer)\n\u001b[0;32m   5879\u001b[0m \u001b[39mif\u001b[39;00m \u001b[39misinstance\u001b[39m(key, Index):\n\u001b[0;32m   5880\u001b[0m     \u001b[39m# GH 42790 - Preserve name from an Index\u001b[39;00m\n",
      "File \u001b[1;32mf:\\code\\python\\projects\\Field-Test-Ferrier-2023\\.venv\\lib\\site-packages\\pandas\\core\\indexes\\base.py:5935\u001b[0m, in \u001b[0;36mIndex._raise_if_missing\u001b[1;34m(self, key, indexer, axis_name)\u001b[0m\n\u001b[0;32m   5933\u001b[0m     \u001b[39mif\u001b[39;00m use_interval_msg:\n\u001b[0;32m   5934\u001b[0m         key \u001b[39m=\u001b[39m \u001b[39mlist\u001b[39m(key)\n\u001b[1;32m-> 5935\u001b[0m     \u001b[39mraise\u001b[39;00m \u001b[39mKeyError\u001b[39;00m(\u001b[39mf\u001b[39m\u001b[39m\"\u001b[39m\u001b[39mNone of [\u001b[39m\u001b[39m{\u001b[39;00mkey\u001b[39m}\u001b[39;00m\u001b[39m] are in the [\u001b[39m\u001b[39m{\u001b[39;00maxis_name\u001b[39m}\u001b[39;00m\u001b[39m]\u001b[39m\u001b[39m\"\u001b[39m)\n\u001b[0;32m   5937\u001b[0m not_found \u001b[39m=\u001b[39m \u001b[39mlist\u001b[39m(ensure_index(key)[missing_mask\u001b[39m.\u001b[39mnonzero()[\u001b[39m0\u001b[39m]]\u001b[39m.\u001b[39munique())\n\u001b[0;32m   5938\u001b[0m \u001b[39mraise\u001b[39;00m \u001b[39mKeyError\u001b[39;00m(\u001b[39mf\u001b[39m\u001b[39m\"\u001b[39m\u001b[39m{\u001b[39;00mnot_found\u001b[39m}\u001b[39;00m\u001b[39m not in index\u001b[39m\u001b[39m\"\u001b[39m)\n",
      "\u001b[1;31mKeyError\u001b[0m: \"None of [Index(['CH13'], dtype='object')] are in the [columns]\""
     ]
    }
   ],
   "source": [
    "time_values = data_frame.iloc[:, 0]\n",
    "device_data = data_frame[[\"CH13\"]]\n",
    "\n",
    "# Plot the first three columns with time_values as the x-axis\n",
    "for column in device_data.columns:\n",
    "    plt.plot(time_values, device_data[column], label=column)\n",
    "\n",
    "#plt.xlim((100, 120))\n",
    "#plt.ylim((-10, 11))\n",
    "\n",
    "# Customize the plot\n",
    "plt.xlabel('Time [s]')\n",
    "plt.ylabel('Value [V]')\n",
    "#plt.title('D1 Ch 0 - 2')\n",
    "plt.legend(device_data.columns, loc='best')\n",
    "\n",
    "# Show the plot\n",
    "plt.show()\n"
   ]
  }
 ],
 "metadata": {
  "kernelspec": {
   "display_name": "Python 3",
   "language": "python",
   "name": "python3"
  },
  "language_info": {
   "codemirror_mode": {
    "name": "ipython",
    "version": 3
   },
   "file_extension": ".py",
   "mimetype": "text/x-python",
   "name": "python",
   "nbconvert_exporter": "python",
   "pygments_lexer": "ipython3",
   "version": "3.10.9"
  },
  "orig_nbformat": 4
 },
 "nbformat": 4,
 "nbformat_minor": 2
}
